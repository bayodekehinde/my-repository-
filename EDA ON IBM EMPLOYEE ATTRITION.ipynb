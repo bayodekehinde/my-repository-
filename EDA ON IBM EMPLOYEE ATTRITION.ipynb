{
  "cells": [
    {
      "cell_type": "markdown",
      "source": [
        "#EXPLORATORY DATA ANALYSIS ON IBM EMPLOYEE ATTRITION \n",
        "\n",
        "##BACKGROUND\n",
        "\n",
        "IBM is an American MNC operating in around 170 countries with major business verticals as computing, software, and hardware.\n",
        "Attrition is a major risk to service-providing organizations where trained and experienced people are the assets of the company. The organization would like to identify the factors which influence the attrition of employees.\n",
        "\n",
        "\n",
        "\n",
        "RESOURCE: [IBM DATASET ON KAGGLE](https://www.kaggle.com/datasets/yasserh/ibm-attrition-dataset)"
      ],
      "metadata": {
        "id": "4BChUgr48oLS"
      },
      "id": "4BChUgr48oLS"
    },
    {
      "cell_type": "markdown",
      "source": [
        "###  Q1: What do you think are the 3 factors behind employee attrition?"
      ],
      "metadata": {
        "id": "XWDxSvLqEnv6"
      },
      "id": "XWDxSvLqEnv6"
    },
    {
      "cell_type": "markdown",
      "source": [
        "## 1. IMPORTING LIBRAIRIES"
      ],
      "metadata": {
        "id": "k6IcYEWjAVGK"
      },
      "id": "k6IcYEWjAVGK"
    },
    {
      "cell_type": "code",
      "execution_count": 1,
      "id": "0e36a2d4",
      "metadata": {
        "id": "0e36a2d4"
      },
      "outputs": [],
      "source": [
        "#import libraries\n",
        "import pandas as pd\n",
        "import numpy as np\n",
        "import matplotlib.pyplot as plt\n",
        "import seaborn as sns"
      ]
    },
    {
      "cell_type": "markdown",
      "source": [
        "#2 DATA EXTRACTION FORM DATABASE\n",
        "\n",
        "The data is extracted from the database using SQL after which it is saved in a dataframe using Pandas.\n",
        "\n",
        "The dictionary of the categorical data is given below\n"
      ],
      "metadata": {
        "id": "H_yV5-8VAetZ"
      },
      "id": "H_yV5-8VAetZ"
    },
    {
      "cell_type": "markdown",
      "id": "7b7b5194",
      "metadata": {
        "id": "7b7b5194"
      },
      "source": [
        "\n",
        "\n",
        "\n",
        "```{\n",
        "    \"education\": {\n",
        "        \"1\": \"Below College\",\n",
        "        \"2\": \"College\",\n",
        "        \"3\": \"Bachelor\",\n",
        "        \"4\": \"Master\",\n",
        "        \"5\": \"Doctor\"\n",
        "    },\n",
        "    \"envrionmentSatisfaction\": {\n",
        "        \"1\": \"Low\",\n",
        "        \"2\": \"Medium\",\n",
        "        \"3\": \"High\",\n",
        "        \"4\": \"Very High\"\n",
        "    },\n",
        "    \"jobInvolvement\": {\n",
        "        \"1\": \"Low\",\n",
        "        \"2\": \"Medium\",\n",
        "        \"3\": \"High\",\n",
        "        \"4\": \"Very High\"\n",
        "    },\n",
        "    \"jobSatisfaction\": {\n",
        "        \"1\": \"Low\",\n",
        "        \"2\": \"Medium\",\n",
        "        \"3\": \"High\",\n",
        "        \"4\": \"Very High\"\n",
        "    },\n",
        "    \"performanceRating\": {\n",
        "        \"1\": \"Low\",\n",
        "        \"2\": \"Good\",\n",
        "        \"3\": \"Excellent\",\n",
        "        \"4\": \"Outstanding\"\n",
        "    },\n",
        "    \"relationshipSatisfaction\": {\n",
        "        \"1\": \"Low\",\n",
        "        \"2\": \"Good\",\n",
        "        \"3\": \"Excellent\",\n",
        "        \"4\": \"Outstanding\"\n",
        "    },\n",
        "    \"workLifeBalance\": {\n",
        "        \"1\": \"Bad\",\n",
        "        \"2\": \"Good\",\n",
        "        \"3\": \"Better\",\n",
        "        \"4\": \"Best\"\n",
        "    }\n",
        "}```"
      ]
    },
    {
      "cell_type": "code",
      "execution_count": 2,
      "id": "e6c5402d",
      "metadata": {
        "id": "e6c5402d"
      },
      "outputs": [],
      "source": [
        "#loading of python module for sql\n",
        "\n",
        "%load_ext sql"
      ]
    },
    {
      "cell_type": "code",
      "execution_count": 3,
      "id": "a3e73612",
      "metadata": {
        "id": "a3e73612",
        "outputId": "d6ead8a6-5014-49c5-a7e3-04afc98dfd72",
        "colab": {
          "base_uri": "https://localhost:8080/",
          "height": 35
        }
      },
      "outputs": [
        {
          "output_type": "execute_result",
          "data": {
            "text/plain": [
              "'Connected: @attr_data.db'"
            ],
            "application/vnd.google.colaboratory.intrinsic+json": {
              "type": "string"
            }
          },
          "metadata": {},
          "execution_count": 3
        }
      ],
      "source": [
        "\n",
        "\n",
        "%%sql \n",
        "\n",
        "sqlite:///attr_data.db"
      ]
    },
    {
      "cell_type": "code",
      "execution_count": 4,
      "id": "ea8bf638",
      "metadata": {
        "id": "ea8bf638"
      },
      "outputs": [],
      "source": [
        "#code to get show the tables present in the database\n"
      ]
    },
    {
      "cell_type": "code",
      "execution_count": 5,
      "id": "4c855a63",
      "metadata": {
        "scrolled": true,
        "id": "4c855a63",
        "outputId": "d0616822-9931-4662-b33f-6ede979eeea4",
        "colab": {
          "base_uri": "https://localhost:8080/",
          "height": 115
        }
      },
      "outputs": [
        {
          "output_type": "stream",
          "name": "stdout",
          "text": [
            " * sqlite:///attr_data.db\n",
            "Done.\n"
          ]
        },
        {
          "output_type": "execute_result",
          "data": {
            "text/plain": [
              "[('attrition_records',), ('sqlite_sequence',)]"
            ],
            "text/html": [
              "<table>\n",
              "    <thead>\n",
              "        <tr>\n",
              "            <th>name</th>\n",
              "        </tr>\n",
              "    </thead>\n",
              "    <tbody>\n",
              "        <tr>\n",
              "            <td>attrition_records</td>\n",
              "        </tr>\n",
              "        <tr>\n",
              "            <td>sqlite_sequence</td>\n",
              "        </tr>\n",
              "    </tbody>\n",
              "</table>"
            ]
          },
          "metadata": {},
          "execution_count": 5
        }
      ],
      "source": [
        "\n",
        "%%sql\n",
        "\n",
        "SELECT name FROM sqlite_master;"
      ]
    },
    {
      "cell_type": "code",
      "execution_count": 6,
      "id": "6d50bf90",
      "metadata": {
        "id": "6d50bf90"
      },
      "outputs": [],
      "source": [
        "#getting the count of the rows in the data"
      ]
    },
    {
      "cell_type": "code",
      "execution_count": 7,
      "id": "07ee8225",
      "metadata": {
        "id": "07ee8225",
        "outputId": "98ccd1ca-eae4-465d-eb1d-c7eda791c48f",
        "colab": {
          "base_uri": "https://localhost:8080/",
          "height": 94
        }
      },
      "outputs": [
        {
          "output_type": "stream",
          "name": "stdout",
          "text": [
            " * sqlite:///attr_data.db\n",
            "Done.\n"
          ]
        },
        {
          "output_type": "execute_result",
          "data": {
            "text/plain": [
              "[(1470,)]"
            ],
            "text/html": [
              "<table>\n",
              "    <thead>\n",
              "        <tr>\n",
              "            <th>COUNT(*)</th>\n",
              "        </tr>\n",
              "    </thead>\n",
              "    <tbody>\n",
              "        <tr>\n",
              "            <td>1470</td>\n",
              "        </tr>\n",
              "    </tbody>\n",
              "</table>"
            ]
          },
          "metadata": {},
          "execution_count": 7
        }
      ],
      "source": [
        "\n",
        "%%sql\n",
        "\n",
        "SELECT COUNT(*) FROM attrition_records"
      ]
    },
    {
      "cell_type": "code",
      "execution_count": 8,
      "id": "80858ecd",
      "metadata": {
        "id": "80858ecd",
        "outputId": "18188e53-df5d-4e36-b8cc-20574ffe7f03",
        "colab": {
          "base_uri": "https://localhost:8080/",
          "height": 284
        }
      },
      "outputs": [
        {
          "output_type": "stream",
          "name": "stdout",
          "text": [
            " * sqlite:///attr_data.db\n",
            "Done.\n"
          ]
        },
        {
          "output_type": "execute_result",
          "data": {
            "text/plain": [
              "[(1, 41, 'Yes', 'Travel_Rarely', 1102, 'Sales', 1, 2, 'Life Sciences', 1, 1, 2, 'Female', 94, 3, 2, 'Sales Executive', 4, 'Single', 5993, 19479, 8, 'Y', 'Yes', 11, 3, 1, 80, 0, 8, 0, 1, 6, 4, 0, 5),\n",
              " (2, 49, 'No', 'Travel_Frequently', 279, 'Research & Development', 8, 1, 'Life Sciences', 1, 2, 3, 'Male', 61, 2, 2, 'Research Scientist', 2, 'Married', 5130, 24907, 1, 'Y', 'No', 23, 4, 4, 80, 1, 10, 3, 3, 10, 7, 1, 7),\n",
              " (3, 37, 'Yes', 'Travel_Rarely', 1373, 'Research & Development', 2, 2, 'Other', 1, 4, 4, 'Male', 92, 2, 1, 'Laboratory Technician', 3, 'Single', 2090, 2396, 6, 'Y', 'Yes', 15, 3, 2, 80, 0, 7, 3, 3, 0, 0, 0, 0),\n",
              " (4, 33, 'No', 'Travel_Frequently', 1392, 'Research & Development', 3, 4, 'Life Sciences', 1, 5, 4, 'Female', 56, 3, 1, 'Research Scientist', 3, 'Married', 2909, 23159, 1, 'Y', 'Yes', 11, 3, 3, 80, 0, 8, 3, 3, 8, 7, 3, 0),\n",
              " (5, 27, 'No', 'Travel_Rarely', 591, 'Research & Development', 2, 1, 'Medical', 1, 7, 1, 'Male', 40, 3, 1, 'Laboratory Technician', 2, 'Married', 3468, 16632, 9, 'Y', 'No', 12, 3, 4, 80, 1, 6, 3, 3, 2, 2, 2, 2)]"
            ],
            "text/html": [
              "<table>\n",
              "    <thead>\n",
              "        <tr>\n",
              "            <th>id</th>\n",
              "            <th>Age</th>\n",
              "            <th>Attrition</th>\n",
              "            <th>BusinessTravel</th>\n",
              "            <th>DailyRate</th>\n",
              "            <th>Department</th>\n",
              "            <th>DistanceFromHome</th>\n",
              "            <th>Education</th>\n",
              "            <th>EducationField</th>\n",
              "            <th>EmployeeCount</th>\n",
              "            <th>EmployeeNumber</th>\n",
              "            <th>EnvironmentSatisfaction</th>\n",
              "            <th>Gender</th>\n",
              "            <th>HourlyRate</th>\n",
              "            <th>JobInvolvement</th>\n",
              "            <th>JobLevel</th>\n",
              "            <th>JobRole</th>\n",
              "            <th>JobSatisfaction</th>\n",
              "            <th>MaritalStatus</th>\n",
              "            <th>MonthlyIncome</th>\n",
              "            <th>MonthlyRate</th>\n",
              "            <th>NumCompaniesWorked</th>\n",
              "            <th>Over18</th>\n",
              "            <th>OverTime</th>\n",
              "            <th>PercentSalaryHike</th>\n",
              "            <th>PerformanceRating</th>\n",
              "            <th>RelationshipSatisfaction</th>\n",
              "            <th>StandardHours</th>\n",
              "            <th>StockOptionLevel</th>\n",
              "            <th>TotalWorkingYears</th>\n",
              "            <th>TrainingTimesLastYear</th>\n",
              "            <th>WorkLifeBalance</th>\n",
              "            <th>YearsAtCompany</th>\n",
              "            <th>YearsInCurrentRole</th>\n",
              "            <th>YearsSinceLastPromotion</th>\n",
              "            <th>YearsWithCurrManager</th>\n",
              "        </tr>\n",
              "    </thead>\n",
              "    <tbody>\n",
              "        <tr>\n",
              "            <td>1</td>\n",
              "            <td>41</td>\n",
              "            <td>Yes</td>\n",
              "            <td>Travel_Rarely</td>\n",
              "            <td>1102</td>\n",
              "            <td>Sales</td>\n",
              "            <td>1</td>\n",
              "            <td>2</td>\n",
              "            <td>Life Sciences</td>\n",
              "            <td>1</td>\n",
              "            <td>1</td>\n",
              "            <td>2</td>\n",
              "            <td>Female</td>\n",
              "            <td>94</td>\n",
              "            <td>3</td>\n",
              "            <td>2</td>\n",
              "            <td>Sales Executive</td>\n",
              "            <td>4</td>\n",
              "            <td>Single</td>\n",
              "            <td>5993</td>\n",
              "            <td>19479</td>\n",
              "            <td>8</td>\n",
              "            <td>Y</td>\n",
              "            <td>Yes</td>\n",
              "            <td>11</td>\n",
              "            <td>3</td>\n",
              "            <td>1</td>\n",
              "            <td>80</td>\n",
              "            <td>0</td>\n",
              "            <td>8</td>\n",
              "            <td>0</td>\n",
              "            <td>1</td>\n",
              "            <td>6</td>\n",
              "            <td>4</td>\n",
              "            <td>0</td>\n",
              "            <td>5</td>\n",
              "        </tr>\n",
              "        <tr>\n",
              "            <td>2</td>\n",
              "            <td>49</td>\n",
              "            <td>No</td>\n",
              "            <td>Travel_Frequently</td>\n",
              "            <td>279</td>\n",
              "            <td>Research &amp; Development</td>\n",
              "            <td>8</td>\n",
              "            <td>1</td>\n",
              "            <td>Life Sciences</td>\n",
              "            <td>1</td>\n",
              "            <td>2</td>\n",
              "            <td>3</td>\n",
              "            <td>Male</td>\n",
              "            <td>61</td>\n",
              "            <td>2</td>\n",
              "            <td>2</td>\n",
              "            <td>Research Scientist</td>\n",
              "            <td>2</td>\n",
              "            <td>Married</td>\n",
              "            <td>5130</td>\n",
              "            <td>24907</td>\n",
              "            <td>1</td>\n",
              "            <td>Y</td>\n",
              "            <td>No</td>\n",
              "            <td>23</td>\n",
              "            <td>4</td>\n",
              "            <td>4</td>\n",
              "            <td>80</td>\n",
              "            <td>1</td>\n",
              "            <td>10</td>\n",
              "            <td>3</td>\n",
              "            <td>3</td>\n",
              "            <td>10</td>\n",
              "            <td>7</td>\n",
              "            <td>1</td>\n",
              "            <td>7</td>\n",
              "        </tr>\n",
              "        <tr>\n",
              "            <td>3</td>\n",
              "            <td>37</td>\n",
              "            <td>Yes</td>\n",
              "            <td>Travel_Rarely</td>\n",
              "            <td>1373</td>\n",
              "            <td>Research &amp; Development</td>\n",
              "            <td>2</td>\n",
              "            <td>2</td>\n",
              "            <td>Other</td>\n",
              "            <td>1</td>\n",
              "            <td>4</td>\n",
              "            <td>4</td>\n",
              "            <td>Male</td>\n",
              "            <td>92</td>\n",
              "            <td>2</td>\n",
              "            <td>1</td>\n",
              "            <td>Laboratory Technician</td>\n",
              "            <td>3</td>\n",
              "            <td>Single</td>\n",
              "            <td>2090</td>\n",
              "            <td>2396</td>\n",
              "            <td>6</td>\n",
              "            <td>Y</td>\n",
              "            <td>Yes</td>\n",
              "            <td>15</td>\n",
              "            <td>3</td>\n",
              "            <td>2</td>\n",
              "            <td>80</td>\n",
              "            <td>0</td>\n",
              "            <td>7</td>\n",
              "            <td>3</td>\n",
              "            <td>3</td>\n",
              "            <td>0</td>\n",
              "            <td>0</td>\n",
              "            <td>0</td>\n",
              "            <td>0</td>\n",
              "        </tr>\n",
              "        <tr>\n",
              "            <td>4</td>\n",
              "            <td>33</td>\n",
              "            <td>No</td>\n",
              "            <td>Travel_Frequently</td>\n",
              "            <td>1392</td>\n",
              "            <td>Research &amp; Development</td>\n",
              "            <td>3</td>\n",
              "            <td>4</td>\n",
              "            <td>Life Sciences</td>\n",
              "            <td>1</td>\n",
              "            <td>5</td>\n",
              "            <td>4</td>\n",
              "            <td>Female</td>\n",
              "            <td>56</td>\n",
              "            <td>3</td>\n",
              "            <td>1</td>\n",
              "            <td>Research Scientist</td>\n",
              "            <td>3</td>\n",
              "            <td>Married</td>\n",
              "            <td>2909</td>\n",
              "            <td>23159</td>\n",
              "            <td>1</td>\n",
              "            <td>Y</td>\n",
              "            <td>Yes</td>\n",
              "            <td>11</td>\n",
              "            <td>3</td>\n",
              "            <td>3</td>\n",
              "            <td>80</td>\n",
              "            <td>0</td>\n",
              "            <td>8</td>\n",
              "            <td>3</td>\n",
              "            <td>3</td>\n",
              "            <td>8</td>\n",
              "            <td>7</td>\n",
              "            <td>3</td>\n",
              "            <td>0</td>\n",
              "        </tr>\n",
              "        <tr>\n",
              "            <td>5</td>\n",
              "            <td>27</td>\n",
              "            <td>No</td>\n",
              "            <td>Travel_Rarely</td>\n",
              "            <td>591</td>\n",
              "            <td>Research &amp; Development</td>\n",
              "            <td>2</td>\n",
              "            <td>1</td>\n",
              "            <td>Medical</td>\n",
              "            <td>1</td>\n",
              "            <td>7</td>\n",
              "            <td>1</td>\n",
              "            <td>Male</td>\n",
              "            <td>40</td>\n",
              "            <td>3</td>\n",
              "            <td>1</td>\n",
              "            <td>Laboratory Technician</td>\n",
              "            <td>2</td>\n",
              "            <td>Married</td>\n",
              "            <td>3468</td>\n",
              "            <td>16632</td>\n",
              "            <td>9</td>\n",
              "            <td>Y</td>\n",
              "            <td>No</td>\n",
              "            <td>12</td>\n",
              "            <td>3</td>\n",
              "            <td>4</td>\n",
              "            <td>80</td>\n",
              "            <td>1</td>\n",
              "            <td>6</td>\n",
              "            <td>3</td>\n",
              "            <td>3</td>\n",
              "            <td>2</td>\n",
              "            <td>2</td>\n",
              "            <td>2</td>\n",
              "            <td>2</td>\n",
              "        </tr>\n",
              "    </tbody>\n",
              "</table>"
            ]
          },
          "metadata": {},
          "execution_count": 8
        }
      ],
      "source": [
        "\n",
        "\n",
        "%%sql\n",
        "\n",
        "\n",
        "\n",
        "\n",
        "SELECT * FROM attrition_records\n",
        "LIMIT 5;"
      ]
    },
    {
      "cell_type": "code",
      "execution_count": 9,
      "id": "5917df0f",
      "metadata": {
        "id": "5917df0f"
      },
      "outputs": [],
      "source": [
        "#extracting the data from the database to a dataframe \n",
        "attrition_data=pd.read_sql_table(\"attrition_records\", \"sqlite:///attr_data.db\" )"
      ]
    },
    {
      "cell_type": "markdown",
      "source": [
        "# 3 DATA  EXPLORATION AND CLEANING\n",
        "\n",
        "The data is explored using different (.head, .info . describe) methods of Pandas library"
      ],
      "metadata": {
        "id": "efMWCOiLCqQS"
      },
      "id": "efMWCOiLCqQS"
    },
    {
      "cell_type": "code",
      "execution_count": 10,
      "id": "36825475",
      "metadata": {
        "collapsed": true,
        "id": "36825475",
        "outputId": "ab380a93-dc52-409e-c611-22a6054cf631",
        "colab": {
          "base_uri": "https://localhost:8080/"
        }
      },
      "outputs": [
        {
          "output_type": "stream",
          "name": "stdout",
          "text": [
            "<class 'pandas.core.frame.DataFrame'>\n",
            "RangeIndex: 1470 entries, 0 to 1469\n",
            "Data columns (total 36 columns):\n",
            " #   Column                    Non-Null Count  Dtype \n",
            "---  ------                    --------------  ----- \n",
            " 0   id                        1470 non-null   int64 \n",
            " 1   Age                       1470 non-null   int64 \n",
            " 2   Attrition                 1470 non-null   object\n",
            " 3   BusinessTravel            1470 non-null   object\n",
            " 4   DailyRate                 1470 non-null   int64 \n",
            " 5   Department                1470 non-null   object\n",
            " 6   DistanceFromHome          1470 non-null   int64 \n",
            " 7   Education                 1470 non-null   int64 \n",
            " 8   EducationField            1470 non-null   object\n",
            " 9   EmployeeCount             1470 non-null   int64 \n",
            " 10  EmployeeNumber            1470 non-null   int64 \n",
            " 11  EnvironmentSatisfaction   1470 non-null   int64 \n",
            " 12  Gender                    1470 non-null   object\n",
            " 13  HourlyRate                1470 non-null   int64 \n",
            " 14  JobInvolvement            1470 non-null   int64 \n",
            " 15  JobLevel                  1470 non-null   int64 \n",
            " 16  JobRole                   1470 non-null   object\n",
            " 17  JobSatisfaction           1470 non-null   int64 \n",
            " 18  MaritalStatus             1470 non-null   object\n",
            " 19  MonthlyIncome             1470 non-null   int64 \n",
            " 20  MonthlyRate               1470 non-null   int64 \n",
            " 21  NumCompaniesWorked        1470 non-null   int64 \n",
            " 22  Over18                    1470 non-null   object\n",
            " 23  OverTime                  1470 non-null   object\n",
            " 24  PercentSalaryHike         1470 non-null   int64 \n",
            " 25  PerformanceRating         1470 non-null   int64 \n",
            " 26  RelationshipSatisfaction  1470 non-null   int64 \n",
            " 27  StandardHours             1470 non-null   int64 \n",
            " 28  StockOptionLevel          1470 non-null   int64 \n",
            " 29  TotalWorkingYears         1470 non-null   int64 \n",
            " 30  TrainingTimesLastYear     1470 non-null   int64 \n",
            " 31  WorkLifeBalance           1470 non-null   int64 \n",
            " 32  YearsAtCompany            1470 non-null   int64 \n",
            " 33  YearsInCurrentRole        1470 non-null   int64 \n",
            " 34  YearsSinceLastPromotion   1470 non-null   int64 \n",
            " 35  YearsWithCurrManager      1470 non-null   int64 \n",
            "dtypes: int64(27), object(9)\n",
            "memory usage: 413.6+ KB\n"
          ]
        }
      ],
      "source": [
        "#checking the data if it has the same rows and columns as the table from which it was copied from\n",
        "attrition_data.info()\n"
      ]
    },
    {
      "cell_type": "code",
      "execution_count": 11,
      "id": "0b3981ae",
      "metadata": {
        "collapsed": true,
        "id": "0b3981ae",
        "colab": {
          "base_uri": "https://localhost:8080/"
        },
        "outputId": "a50b332d-5ba3-4a4b-d37d-37cd9085b867"
      },
      "outputs": [
        {
          "output_type": "execute_result",
          "data": {
            "text/plain": [
              "id                          0\n",
              "Age                         0\n",
              "Attrition                   0\n",
              "BusinessTravel              0\n",
              "DailyRate                   0\n",
              "Department                  0\n",
              "DistanceFromHome            0\n",
              "Education                   0\n",
              "EducationField              0\n",
              "EmployeeCount               0\n",
              "EmployeeNumber              0\n",
              "EnvironmentSatisfaction     0\n",
              "Gender                      0\n",
              "HourlyRate                  0\n",
              "JobInvolvement              0\n",
              "JobLevel                    0\n",
              "JobRole                     0\n",
              "JobSatisfaction             0\n",
              "MaritalStatus               0\n",
              "MonthlyIncome               0\n",
              "MonthlyRate                 0\n",
              "NumCompaniesWorked          0\n",
              "Over18                      0\n",
              "OverTime                    0\n",
              "PercentSalaryHike           0\n",
              "PerformanceRating           0\n",
              "RelationshipSatisfaction    0\n",
              "StandardHours               0\n",
              "StockOptionLevel            0\n",
              "TotalWorkingYears           0\n",
              "TrainingTimesLastYear       0\n",
              "WorkLifeBalance             0\n",
              "YearsAtCompany              0\n",
              "YearsInCurrentRole          0\n",
              "YearsSinceLastPromotion     0\n",
              "YearsWithCurrManager        0\n",
              "dtype: int64"
            ]
          },
          "metadata": {},
          "execution_count": 11
        }
      ],
      "source": [
        "#checking for any NA column in the data\n",
        "attrition_data.isnull().sum()"
      ]
    },
    {
      "cell_type": "markdown",
      "source": [
        "The dataset has no missing values. Hence, no exhaustive cleaning is required pertaining to the missing values"
      ],
      "metadata": {
        "id": "otERWXmgC9RY"
      },
      "id": "otERWXmgC9RY"
    },
    {
      "cell_type": "code",
      "execution_count": 12,
      "id": "206b2bba",
      "metadata": {
        "id": "206b2bba",
        "outputId": "5a9ddc5a-1053-43de-eda7-55116b4ec63a",
        "colab": {
          "base_uri": "https://localhost:8080/",
          "height": 856
        }
      },
      "outputs": [
        {
          "output_type": "execute_result",
          "data": {
            "text/plain": [
              "    id  Age Attrition     BusinessTravel  DailyRate              Department  \\\n",
              "0    1   41       Yes      Travel_Rarely       1102                   Sales   \n",
              "1    2   49        No  Travel_Frequently        279  Research & Development   \n",
              "2    3   37       Yes      Travel_Rarely       1373  Research & Development   \n",
              "3    4   33        No  Travel_Frequently       1392  Research & Development   \n",
              "4    5   27        No      Travel_Rarely        591  Research & Development   \n",
              "5    6   32        No  Travel_Frequently       1005  Research & Development   \n",
              "6    7   59        No      Travel_Rarely       1324  Research & Development   \n",
              "7    8   30        No      Travel_Rarely       1358  Research & Development   \n",
              "8    9   38        No  Travel_Frequently        216  Research & Development   \n",
              "9   10   36        No      Travel_Rarely       1299  Research & Development   \n",
              "10  11   35        No      Travel_Rarely        809  Research & Development   \n",
              "11  12   29        No      Travel_Rarely        153  Research & Development   \n",
              "12  13   31        No      Travel_Rarely        670  Research & Development   \n",
              "13  14   34        No      Travel_Rarely       1346  Research & Development   \n",
              "14  15   28       Yes      Travel_Rarely        103  Research & Development   \n",
              "\n",
              "    DistanceFromHome  Education EducationField  EmployeeCount  ...  \\\n",
              "0                  1          2  Life Sciences              1  ...   \n",
              "1                  8          1  Life Sciences              1  ...   \n",
              "2                  2          2          Other              1  ...   \n",
              "3                  3          4  Life Sciences              1  ...   \n",
              "4                  2          1        Medical              1  ...   \n",
              "5                  2          2  Life Sciences              1  ...   \n",
              "6                  3          3        Medical              1  ...   \n",
              "7                 24          1  Life Sciences              1  ...   \n",
              "8                 23          3  Life Sciences              1  ...   \n",
              "9                 27          3        Medical              1  ...   \n",
              "10                16          3        Medical              1  ...   \n",
              "11                15          2  Life Sciences              1  ...   \n",
              "12                26          1  Life Sciences              1  ...   \n",
              "13                19          2        Medical              1  ...   \n",
              "14                24          3  Life Sciences              1  ...   \n",
              "\n",
              "    RelationshipSatisfaction  StandardHours StockOptionLevel  \\\n",
              "0                          1             80                0   \n",
              "1                          4             80                1   \n",
              "2                          2             80                0   \n",
              "3                          3             80                0   \n",
              "4                          4             80                1   \n",
              "5                          3             80                0   \n",
              "6                          1             80                3   \n",
              "7                          2             80                1   \n",
              "8                          2             80                0   \n",
              "9                          2             80                2   \n",
              "10                         3             80                1   \n",
              "11                         4             80                0   \n",
              "12                         4             80                1   \n",
              "13                         3             80                1   \n",
              "14                         2             80                0   \n",
              "\n",
              "    TotalWorkingYears  TrainingTimesLastYear  WorkLifeBalance YearsAtCompany  \\\n",
              "0                   8                      0                1              6   \n",
              "1                  10                      3                3             10   \n",
              "2                   7                      3                3              0   \n",
              "3                   8                      3                3              8   \n",
              "4                   6                      3                3              2   \n",
              "5                   8                      2                2              7   \n",
              "6                  12                      3                2              1   \n",
              "7                   1                      2                3              1   \n",
              "8                  10                      2                3              9   \n",
              "9                  17                      3                2              7   \n",
              "10                  6                      5                3              5   \n",
              "11                 10                      3                3              9   \n",
              "12                  5                      1                2              5   \n",
              "13                  3                      2                3              2   \n",
              "14                  6                      4                3              4   \n",
              "\n",
              "    YearsInCurrentRole YearsSinceLastPromotion  YearsWithCurrManager  \n",
              "0                    4                       0                     5  \n",
              "1                    7                       1                     7  \n",
              "2                    0                       0                     0  \n",
              "3                    7                       3                     0  \n",
              "4                    2                       2                     2  \n",
              "5                    7                       3                     6  \n",
              "6                    0                       0                     0  \n",
              "7                    0                       0                     0  \n",
              "8                    7                       1                     8  \n",
              "9                    7                       7                     7  \n",
              "10                   4                       0                     3  \n",
              "11                   5                       0                     8  \n",
              "12                   2                       4                     3  \n",
              "13                   2                       1                     2  \n",
              "14                   2                       0                     3  \n",
              "\n",
              "[15 rows x 36 columns]"
            ],
            "text/html": [
              "\n",
              "  <div id=\"df-585681b6-c5b1-4cab-959b-15de0d4d1053\">\n",
              "    <div class=\"colab-df-container\">\n",
              "      <div>\n",
              "<style scoped>\n",
              "    .dataframe tbody tr th:only-of-type {\n",
              "        vertical-align: middle;\n",
              "    }\n",
              "\n",
              "    .dataframe tbody tr th {\n",
              "        vertical-align: top;\n",
              "    }\n",
              "\n",
              "    .dataframe thead th {\n",
              "        text-align: right;\n",
              "    }\n",
              "</style>\n",
              "<table border=\"1\" class=\"dataframe\">\n",
              "  <thead>\n",
              "    <tr style=\"text-align: right;\">\n",
              "      <th></th>\n",
              "      <th>id</th>\n",
              "      <th>Age</th>\n",
              "      <th>Attrition</th>\n",
              "      <th>BusinessTravel</th>\n",
              "      <th>DailyRate</th>\n",
              "      <th>Department</th>\n",
              "      <th>DistanceFromHome</th>\n",
              "      <th>Education</th>\n",
              "      <th>EducationField</th>\n",
              "      <th>EmployeeCount</th>\n",
              "      <th>...</th>\n",
              "      <th>RelationshipSatisfaction</th>\n",
              "      <th>StandardHours</th>\n",
              "      <th>StockOptionLevel</th>\n",
              "      <th>TotalWorkingYears</th>\n",
              "      <th>TrainingTimesLastYear</th>\n",
              "      <th>WorkLifeBalance</th>\n",
              "      <th>YearsAtCompany</th>\n",
              "      <th>YearsInCurrentRole</th>\n",
              "      <th>YearsSinceLastPromotion</th>\n",
              "      <th>YearsWithCurrManager</th>\n",
              "    </tr>\n",
              "  </thead>\n",
              "  <tbody>\n",
              "    <tr>\n",
              "      <th>0</th>\n",
              "      <td>1</td>\n",
              "      <td>41</td>\n",
              "      <td>Yes</td>\n",
              "      <td>Travel_Rarely</td>\n",
              "      <td>1102</td>\n",
              "      <td>Sales</td>\n",
              "      <td>1</td>\n",
              "      <td>2</td>\n",
              "      <td>Life Sciences</td>\n",
              "      <td>1</td>\n",
              "      <td>...</td>\n",
              "      <td>1</td>\n",
              "      <td>80</td>\n",
              "      <td>0</td>\n",
              "      <td>8</td>\n",
              "      <td>0</td>\n",
              "      <td>1</td>\n",
              "      <td>6</td>\n",
              "      <td>4</td>\n",
              "      <td>0</td>\n",
              "      <td>5</td>\n",
              "    </tr>\n",
              "    <tr>\n",
              "      <th>1</th>\n",
              "      <td>2</td>\n",
              "      <td>49</td>\n",
              "      <td>No</td>\n",
              "      <td>Travel_Frequently</td>\n",
              "      <td>279</td>\n",
              "      <td>Research &amp; Development</td>\n",
              "      <td>8</td>\n",
              "      <td>1</td>\n",
              "      <td>Life Sciences</td>\n",
              "      <td>1</td>\n",
              "      <td>...</td>\n",
              "      <td>4</td>\n",
              "      <td>80</td>\n",
              "      <td>1</td>\n",
              "      <td>10</td>\n",
              "      <td>3</td>\n",
              "      <td>3</td>\n",
              "      <td>10</td>\n",
              "      <td>7</td>\n",
              "      <td>1</td>\n",
              "      <td>7</td>\n",
              "    </tr>\n",
              "    <tr>\n",
              "      <th>2</th>\n",
              "      <td>3</td>\n",
              "      <td>37</td>\n",
              "      <td>Yes</td>\n",
              "      <td>Travel_Rarely</td>\n",
              "      <td>1373</td>\n",
              "      <td>Research &amp; Development</td>\n",
              "      <td>2</td>\n",
              "      <td>2</td>\n",
              "      <td>Other</td>\n",
              "      <td>1</td>\n",
              "      <td>...</td>\n",
              "      <td>2</td>\n",
              "      <td>80</td>\n",
              "      <td>0</td>\n",
              "      <td>7</td>\n",
              "      <td>3</td>\n",
              "      <td>3</td>\n",
              "      <td>0</td>\n",
              "      <td>0</td>\n",
              "      <td>0</td>\n",
              "      <td>0</td>\n",
              "    </tr>\n",
              "    <tr>\n",
              "      <th>3</th>\n",
              "      <td>4</td>\n",
              "      <td>33</td>\n",
              "      <td>No</td>\n",
              "      <td>Travel_Frequently</td>\n",
              "      <td>1392</td>\n",
              "      <td>Research &amp; Development</td>\n",
              "      <td>3</td>\n",
              "      <td>4</td>\n",
              "      <td>Life Sciences</td>\n",
              "      <td>1</td>\n",
              "      <td>...</td>\n",
              "      <td>3</td>\n",
              "      <td>80</td>\n",
              "      <td>0</td>\n",
              "      <td>8</td>\n",
              "      <td>3</td>\n",
              "      <td>3</td>\n",
              "      <td>8</td>\n",
              "      <td>7</td>\n",
              "      <td>3</td>\n",
              "      <td>0</td>\n",
              "    </tr>\n",
              "    <tr>\n",
              "      <th>4</th>\n",
              "      <td>5</td>\n",
              "      <td>27</td>\n",
              "      <td>No</td>\n",
              "      <td>Travel_Rarely</td>\n",
              "      <td>591</td>\n",
              "      <td>Research &amp; Development</td>\n",
              "      <td>2</td>\n",
              "      <td>1</td>\n",
              "      <td>Medical</td>\n",
              "      <td>1</td>\n",
              "      <td>...</td>\n",
              "      <td>4</td>\n",
              "      <td>80</td>\n",
              "      <td>1</td>\n",
              "      <td>6</td>\n",
              "      <td>3</td>\n",
              "      <td>3</td>\n",
              "      <td>2</td>\n",
              "      <td>2</td>\n",
              "      <td>2</td>\n",
              "      <td>2</td>\n",
              "    </tr>\n",
              "    <tr>\n",
              "      <th>5</th>\n",
              "      <td>6</td>\n",
              "      <td>32</td>\n",
              "      <td>No</td>\n",
              "      <td>Travel_Frequently</td>\n",
              "      <td>1005</td>\n",
              "      <td>Research &amp; Development</td>\n",
              "      <td>2</td>\n",
              "      <td>2</td>\n",
              "      <td>Life Sciences</td>\n",
              "      <td>1</td>\n",
              "      <td>...</td>\n",
              "      <td>3</td>\n",
              "      <td>80</td>\n",
              "      <td>0</td>\n",
              "      <td>8</td>\n",
              "      <td>2</td>\n",
              "      <td>2</td>\n",
              "      <td>7</td>\n",
              "      <td>7</td>\n",
              "      <td>3</td>\n",
              "      <td>6</td>\n",
              "    </tr>\n",
              "    <tr>\n",
              "      <th>6</th>\n",
              "      <td>7</td>\n",
              "      <td>59</td>\n",
              "      <td>No</td>\n",
              "      <td>Travel_Rarely</td>\n",
              "      <td>1324</td>\n",
              "      <td>Research &amp; Development</td>\n",
              "      <td>3</td>\n",
              "      <td>3</td>\n",
              "      <td>Medical</td>\n",
              "      <td>1</td>\n",
              "      <td>...</td>\n",
              "      <td>1</td>\n",
              "      <td>80</td>\n",
              "      <td>3</td>\n",
              "      <td>12</td>\n",
              "      <td>3</td>\n",
              "      <td>2</td>\n",
              "      <td>1</td>\n",
              "      <td>0</td>\n",
              "      <td>0</td>\n",
              "      <td>0</td>\n",
              "    </tr>\n",
              "    <tr>\n",
              "      <th>7</th>\n",
              "      <td>8</td>\n",
              "      <td>30</td>\n",
              "      <td>No</td>\n",
              "      <td>Travel_Rarely</td>\n",
              "      <td>1358</td>\n",
              "      <td>Research &amp; Development</td>\n",
              "      <td>24</td>\n",
              "      <td>1</td>\n",
              "      <td>Life Sciences</td>\n",
              "      <td>1</td>\n",
              "      <td>...</td>\n",
              "      <td>2</td>\n",
              "      <td>80</td>\n",
              "      <td>1</td>\n",
              "      <td>1</td>\n",
              "      <td>2</td>\n",
              "      <td>3</td>\n",
              "      <td>1</td>\n",
              "      <td>0</td>\n",
              "      <td>0</td>\n",
              "      <td>0</td>\n",
              "    </tr>\n",
              "    <tr>\n",
              "      <th>8</th>\n",
              "      <td>9</td>\n",
              "      <td>38</td>\n",
              "      <td>No</td>\n",
              "      <td>Travel_Frequently</td>\n",
              "      <td>216</td>\n",
              "      <td>Research &amp; Development</td>\n",
              "      <td>23</td>\n",
              "      <td>3</td>\n",
              "      <td>Life Sciences</td>\n",
              "      <td>1</td>\n",
              "      <td>...</td>\n",
              "      <td>2</td>\n",
              "      <td>80</td>\n",
              "      <td>0</td>\n",
              "      <td>10</td>\n",
              "      <td>2</td>\n",
              "      <td>3</td>\n",
              "      <td>9</td>\n",
              "      <td>7</td>\n",
              "      <td>1</td>\n",
              "      <td>8</td>\n",
              "    </tr>\n",
              "    <tr>\n",
              "      <th>9</th>\n",
              "      <td>10</td>\n",
              "      <td>36</td>\n",
              "      <td>No</td>\n",
              "      <td>Travel_Rarely</td>\n",
              "      <td>1299</td>\n",
              "      <td>Research &amp; Development</td>\n",
              "      <td>27</td>\n",
              "      <td>3</td>\n",
              "      <td>Medical</td>\n",
              "      <td>1</td>\n",
              "      <td>...</td>\n",
              "      <td>2</td>\n",
              "      <td>80</td>\n",
              "      <td>2</td>\n",
              "      <td>17</td>\n",
              "      <td>3</td>\n",
              "      <td>2</td>\n",
              "      <td>7</td>\n",
              "      <td>7</td>\n",
              "      <td>7</td>\n",
              "      <td>7</td>\n",
              "    </tr>\n",
              "    <tr>\n",
              "      <th>10</th>\n",
              "      <td>11</td>\n",
              "      <td>35</td>\n",
              "      <td>No</td>\n",
              "      <td>Travel_Rarely</td>\n",
              "      <td>809</td>\n",
              "      <td>Research &amp; Development</td>\n",
              "      <td>16</td>\n",
              "      <td>3</td>\n",
              "      <td>Medical</td>\n",
              "      <td>1</td>\n",
              "      <td>...</td>\n",
              "      <td>3</td>\n",
              "      <td>80</td>\n",
              "      <td>1</td>\n",
              "      <td>6</td>\n",
              "      <td>5</td>\n",
              "      <td>3</td>\n",
              "      <td>5</td>\n",
              "      <td>4</td>\n",
              "      <td>0</td>\n",
              "      <td>3</td>\n",
              "    </tr>\n",
              "    <tr>\n",
              "      <th>11</th>\n",
              "      <td>12</td>\n",
              "      <td>29</td>\n",
              "      <td>No</td>\n",
              "      <td>Travel_Rarely</td>\n",
              "      <td>153</td>\n",
              "      <td>Research &amp; Development</td>\n",
              "      <td>15</td>\n",
              "      <td>2</td>\n",
              "      <td>Life Sciences</td>\n",
              "      <td>1</td>\n",
              "      <td>...</td>\n",
              "      <td>4</td>\n",
              "      <td>80</td>\n",
              "      <td>0</td>\n",
              "      <td>10</td>\n",
              "      <td>3</td>\n",
              "      <td>3</td>\n",
              "      <td>9</td>\n",
              "      <td>5</td>\n",
              "      <td>0</td>\n",
              "      <td>8</td>\n",
              "    </tr>\n",
              "    <tr>\n",
              "      <th>12</th>\n",
              "      <td>13</td>\n",
              "      <td>31</td>\n",
              "      <td>No</td>\n",
              "      <td>Travel_Rarely</td>\n",
              "      <td>670</td>\n",
              "      <td>Research &amp; Development</td>\n",
              "      <td>26</td>\n",
              "      <td>1</td>\n",
              "      <td>Life Sciences</td>\n",
              "      <td>1</td>\n",
              "      <td>...</td>\n",
              "      <td>4</td>\n",
              "      <td>80</td>\n",
              "      <td>1</td>\n",
              "      <td>5</td>\n",
              "      <td>1</td>\n",
              "      <td>2</td>\n",
              "      <td>5</td>\n",
              "      <td>2</td>\n",
              "      <td>4</td>\n",
              "      <td>3</td>\n",
              "    </tr>\n",
              "    <tr>\n",
              "      <th>13</th>\n",
              "      <td>14</td>\n",
              "      <td>34</td>\n",
              "      <td>No</td>\n",
              "      <td>Travel_Rarely</td>\n",
              "      <td>1346</td>\n",
              "      <td>Research &amp; Development</td>\n",
              "      <td>19</td>\n",
              "      <td>2</td>\n",
              "      <td>Medical</td>\n",
              "      <td>1</td>\n",
              "      <td>...</td>\n",
              "      <td>3</td>\n",
              "      <td>80</td>\n",
              "      <td>1</td>\n",
              "      <td>3</td>\n",
              "      <td>2</td>\n",
              "      <td>3</td>\n",
              "      <td>2</td>\n",
              "      <td>2</td>\n",
              "      <td>1</td>\n",
              "      <td>2</td>\n",
              "    </tr>\n",
              "    <tr>\n",
              "      <th>14</th>\n",
              "      <td>15</td>\n",
              "      <td>28</td>\n",
              "      <td>Yes</td>\n",
              "      <td>Travel_Rarely</td>\n",
              "      <td>103</td>\n",
              "      <td>Research &amp; Development</td>\n",
              "      <td>24</td>\n",
              "      <td>3</td>\n",
              "      <td>Life Sciences</td>\n",
              "      <td>1</td>\n",
              "      <td>...</td>\n",
              "      <td>2</td>\n",
              "      <td>80</td>\n",
              "      <td>0</td>\n",
              "      <td>6</td>\n",
              "      <td>4</td>\n",
              "      <td>3</td>\n",
              "      <td>4</td>\n",
              "      <td>2</td>\n",
              "      <td>0</td>\n",
              "      <td>3</td>\n",
              "    </tr>\n",
              "  </tbody>\n",
              "</table>\n",
              "<p>15 rows × 36 columns</p>\n",
              "</div>\n",
              "      <button class=\"colab-df-convert\" onclick=\"convertToInteractive('df-585681b6-c5b1-4cab-959b-15de0d4d1053')\"\n",
              "              title=\"Convert this dataframe to an interactive table.\"\n",
              "              style=\"display:none;\">\n",
              "        \n",
              "  <svg xmlns=\"http://www.w3.org/2000/svg\" height=\"24px\"viewBox=\"0 0 24 24\"\n",
              "       width=\"24px\">\n",
              "    <path d=\"M0 0h24v24H0V0z\" fill=\"none\"/>\n",
              "    <path d=\"M18.56 5.44l.94 2.06.94-2.06 2.06-.94-2.06-.94-.94-2.06-.94 2.06-2.06.94zm-11 1L8.5 8.5l.94-2.06 2.06-.94-2.06-.94L8.5 2.5l-.94 2.06-2.06.94zm10 10l.94 2.06.94-2.06 2.06-.94-2.06-.94-.94-2.06-.94 2.06-2.06.94z\"/><path d=\"M17.41 7.96l-1.37-1.37c-.4-.4-.92-.59-1.43-.59-.52 0-1.04.2-1.43.59L10.3 9.45l-7.72 7.72c-.78.78-.78 2.05 0 2.83L4 21.41c.39.39.9.59 1.41.59.51 0 1.02-.2 1.41-.59l7.78-7.78 2.81-2.81c.8-.78.8-2.07 0-2.86zM5.41 20L4 18.59l7.72-7.72 1.47 1.35L5.41 20z\"/>\n",
              "  </svg>\n",
              "      </button>\n",
              "      \n",
              "  <style>\n",
              "    .colab-df-container {\n",
              "      display:flex;\n",
              "      flex-wrap:wrap;\n",
              "      gap: 12px;\n",
              "    }\n",
              "\n",
              "    .colab-df-convert {\n",
              "      background-color: #E8F0FE;\n",
              "      border: none;\n",
              "      border-radius: 50%;\n",
              "      cursor: pointer;\n",
              "      display: none;\n",
              "      fill: #1967D2;\n",
              "      height: 32px;\n",
              "      padding: 0 0 0 0;\n",
              "      width: 32px;\n",
              "    }\n",
              "\n",
              "    .colab-df-convert:hover {\n",
              "      background-color: #E2EBFA;\n",
              "      box-shadow: 0px 1px 2px rgba(60, 64, 67, 0.3), 0px 1px 3px 1px rgba(60, 64, 67, 0.15);\n",
              "      fill: #174EA6;\n",
              "    }\n",
              "\n",
              "    [theme=dark] .colab-df-convert {\n",
              "      background-color: #3B4455;\n",
              "      fill: #D2E3FC;\n",
              "    }\n",
              "\n",
              "    [theme=dark] .colab-df-convert:hover {\n",
              "      background-color: #434B5C;\n",
              "      box-shadow: 0px 1px 3px 1px rgba(0, 0, 0, 0.15);\n",
              "      filter: drop-shadow(0px 1px 2px rgba(0, 0, 0, 0.3));\n",
              "      fill: #FFFFFF;\n",
              "    }\n",
              "  </style>\n",
              "\n",
              "      <script>\n",
              "        const buttonEl =\n",
              "          document.querySelector('#df-585681b6-c5b1-4cab-959b-15de0d4d1053 button.colab-df-convert');\n",
              "        buttonEl.style.display =\n",
              "          google.colab.kernel.accessAllowed ? 'block' : 'none';\n",
              "\n",
              "        async function convertToInteractive(key) {\n",
              "          const element = document.querySelector('#df-585681b6-c5b1-4cab-959b-15de0d4d1053');\n",
              "          const dataTable =\n",
              "            await google.colab.kernel.invokeFunction('convertToInteractive',\n",
              "                                                     [key], {});\n",
              "          if (!dataTable) return;\n",
              "\n",
              "          const docLinkHtml = 'Like what you see? Visit the ' +\n",
              "            '<a target=\"_blank\" href=https://colab.research.google.com/notebooks/data_table.ipynb>data table notebook</a>'\n",
              "            + ' to learn more about interactive tables.';\n",
              "          element.innerHTML = '';\n",
              "          dataTable['output_type'] = 'display_data';\n",
              "          await google.colab.output.renderOutput(dataTable, element);\n",
              "          const docLink = document.createElement('div');\n",
              "          docLink.innerHTML = docLinkHtml;\n",
              "          element.appendChild(docLink);\n",
              "        }\n",
              "      </script>\n",
              "    </div>\n",
              "  </div>\n",
              "  "
            ]
          },
          "metadata": {},
          "execution_count": 12
        }
      ],
      "source": [
        "attrition_data.head(15)"
      ]
    },
    {
      "cell_type": "markdown",
      "id": "d57b2444",
      "metadata": {
        "id": "d57b2444"
      },
      "source": [
        "### Getting the summary statistics for the numerical data\n",
        "\n"
      ]
    },
    {
      "cell_type": "code",
      "execution_count": 13,
      "id": "d8220ad8",
      "metadata": {
        "id": "d8220ad8",
        "outputId": "9bbca8ff-9599-40cd-e28c-422c0ec51e9b",
        "colab": {
          "base_uri": "https://localhost:8080/",
          "height": 394
        }
      },
      "outputs": [
        {
          "output_type": "execute_result",
          "data": {
            "text/plain": [
              "                id          Age    DailyRate  DistanceFromHome    Education  \\\n",
              "count  1470.000000  1470.000000  1470.000000       1470.000000  1470.000000   \n",
              "mean    735.500000    36.923810   802.485714          9.192517     2.912925   \n",
              "std     424.496761     9.135373   403.509100          8.106864     1.024165   \n",
              "min       1.000000    18.000000   102.000000          1.000000     1.000000   \n",
              "25%     368.250000    30.000000   465.000000          2.000000     2.000000   \n",
              "50%     735.500000    36.000000   802.000000          7.000000     3.000000   \n",
              "75%    1102.750000    43.000000  1157.000000         14.000000     4.000000   \n",
              "max    1470.000000    60.000000  1499.000000         29.000000     5.000000   \n",
              "\n",
              "       EmployeeCount  EmployeeNumber  EnvironmentSatisfaction   HourlyRate  \\\n",
              "count         1470.0     1470.000000              1470.000000  1470.000000   \n",
              "mean             1.0     1024.865306                 2.721769    65.891156   \n",
              "std              0.0      602.024335                 1.093082    20.329428   \n",
              "min              1.0        1.000000                 1.000000    30.000000   \n",
              "25%              1.0      491.250000                 2.000000    48.000000   \n",
              "50%              1.0     1020.500000                 3.000000    66.000000   \n",
              "75%              1.0     1555.750000                 4.000000    83.750000   \n",
              "max              1.0     2068.000000                 4.000000   100.000000   \n",
              "\n",
              "       JobInvolvement  ...  RelationshipSatisfaction  StandardHours  \\\n",
              "count     1470.000000  ...               1470.000000         1470.0   \n",
              "mean         2.729932  ...                  2.712245           80.0   \n",
              "std          0.711561  ...                  1.081209            0.0   \n",
              "min          1.000000  ...                  1.000000           80.0   \n",
              "25%          2.000000  ...                  2.000000           80.0   \n",
              "50%          3.000000  ...                  3.000000           80.0   \n",
              "75%          3.000000  ...                  4.000000           80.0   \n",
              "max          4.000000  ...                  4.000000           80.0   \n",
              "\n",
              "       StockOptionLevel  TotalWorkingYears  TrainingTimesLastYear  \\\n",
              "count       1470.000000        1470.000000            1470.000000   \n",
              "mean           0.793878          11.279592               2.799320   \n",
              "std            0.852077           7.780782               1.289271   \n",
              "min            0.000000           0.000000               0.000000   \n",
              "25%            0.000000           6.000000               2.000000   \n",
              "50%            1.000000          10.000000               3.000000   \n",
              "75%            1.000000          15.000000               3.000000   \n",
              "max            3.000000          40.000000               6.000000   \n",
              "\n",
              "       WorkLifeBalance  YearsAtCompany  YearsInCurrentRole  \\\n",
              "count      1470.000000     1470.000000         1470.000000   \n",
              "mean          2.761224        7.008163            4.229252   \n",
              "std           0.706476        6.126525            3.623137   \n",
              "min           1.000000        0.000000            0.000000   \n",
              "25%           2.000000        3.000000            2.000000   \n",
              "50%           3.000000        5.000000            3.000000   \n",
              "75%           3.000000        9.000000            7.000000   \n",
              "max           4.000000       40.000000           18.000000   \n",
              "\n",
              "       YearsSinceLastPromotion  YearsWithCurrManager  \n",
              "count              1470.000000           1470.000000  \n",
              "mean                  2.187755              4.123129  \n",
              "std                   3.222430              3.568136  \n",
              "min                   0.000000              0.000000  \n",
              "25%                   0.000000              2.000000  \n",
              "50%                   1.000000              3.000000  \n",
              "75%                   3.000000              7.000000  \n",
              "max                  15.000000             17.000000  \n",
              "\n",
              "[8 rows x 27 columns]"
            ],
            "text/html": [
              "\n",
              "  <div id=\"df-1d470811-e2ce-4ac2-b6f2-377141bf6bae\">\n",
              "    <div class=\"colab-df-container\">\n",
              "      <div>\n",
              "<style scoped>\n",
              "    .dataframe tbody tr th:only-of-type {\n",
              "        vertical-align: middle;\n",
              "    }\n",
              "\n",
              "    .dataframe tbody tr th {\n",
              "        vertical-align: top;\n",
              "    }\n",
              "\n",
              "    .dataframe thead th {\n",
              "        text-align: right;\n",
              "    }\n",
              "</style>\n",
              "<table border=\"1\" class=\"dataframe\">\n",
              "  <thead>\n",
              "    <tr style=\"text-align: right;\">\n",
              "      <th></th>\n",
              "      <th>id</th>\n",
              "      <th>Age</th>\n",
              "      <th>DailyRate</th>\n",
              "      <th>DistanceFromHome</th>\n",
              "      <th>Education</th>\n",
              "      <th>EmployeeCount</th>\n",
              "      <th>EmployeeNumber</th>\n",
              "      <th>EnvironmentSatisfaction</th>\n",
              "      <th>HourlyRate</th>\n",
              "      <th>JobInvolvement</th>\n",
              "      <th>...</th>\n",
              "      <th>RelationshipSatisfaction</th>\n",
              "      <th>StandardHours</th>\n",
              "      <th>StockOptionLevel</th>\n",
              "      <th>TotalWorkingYears</th>\n",
              "      <th>TrainingTimesLastYear</th>\n",
              "      <th>WorkLifeBalance</th>\n",
              "      <th>YearsAtCompany</th>\n",
              "      <th>YearsInCurrentRole</th>\n",
              "      <th>YearsSinceLastPromotion</th>\n",
              "      <th>YearsWithCurrManager</th>\n",
              "    </tr>\n",
              "  </thead>\n",
              "  <tbody>\n",
              "    <tr>\n",
              "      <th>count</th>\n",
              "      <td>1470.000000</td>\n",
              "      <td>1470.000000</td>\n",
              "      <td>1470.000000</td>\n",
              "      <td>1470.000000</td>\n",
              "      <td>1470.000000</td>\n",
              "      <td>1470.0</td>\n",
              "      <td>1470.000000</td>\n",
              "      <td>1470.000000</td>\n",
              "      <td>1470.000000</td>\n",
              "      <td>1470.000000</td>\n",
              "      <td>...</td>\n",
              "      <td>1470.000000</td>\n",
              "      <td>1470.0</td>\n",
              "      <td>1470.000000</td>\n",
              "      <td>1470.000000</td>\n",
              "      <td>1470.000000</td>\n",
              "      <td>1470.000000</td>\n",
              "      <td>1470.000000</td>\n",
              "      <td>1470.000000</td>\n",
              "      <td>1470.000000</td>\n",
              "      <td>1470.000000</td>\n",
              "    </tr>\n",
              "    <tr>\n",
              "      <th>mean</th>\n",
              "      <td>735.500000</td>\n",
              "      <td>36.923810</td>\n",
              "      <td>802.485714</td>\n",
              "      <td>9.192517</td>\n",
              "      <td>2.912925</td>\n",
              "      <td>1.0</td>\n",
              "      <td>1024.865306</td>\n",
              "      <td>2.721769</td>\n",
              "      <td>65.891156</td>\n",
              "      <td>2.729932</td>\n",
              "      <td>...</td>\n",
              "      <td>2.712245</td>\n",
              "      <td>80.0</td>\n",
              "      <td>0.793878</td>\n",
              "      <td>11.279592</td>\n",
              "      <td>2.799320</td>\n",
              "      <td>2.761224</td>\n",
              "      <td>7.008163</td>\n",
              "      <td>4.229252</td>\n",
              "      <td>2.187755</td>\n",
              "      <td>4.123129</td>\n",
              "    </tr>\n",
              "    <tr>\n",
              "      <th>std</th>\n",
              "      <td>424.496761</td>\n",
              "      <td>9.135373</td>\n",
              "      <td>403.509100</td>\n",
              "      <td>8.106864</td>\n",
              "      <td>1.024165</td>\n",
              "      <td>0.0</td>\n",
              "      <td>602.024335</td>\n",
              "      <td>1.093082</td>\n",
              "      <td>20.329428</td>\n",
              "      <td>0.711561</td>\n",
              "      <td>...</td>\n",
              "      <td>1.081209</td>\n",
              "      <td>0.0</td>\n",
              "      <td>0.852077</td>\n",
              "      <td>7.780782</td>\n",
              "      <td>1.289271</td>\n",
              "      <td>0.706476</td>\n",
              "      <td>6.126525</td>\n",
              "      <td>3.623137</td>\n",
              "      <td>3.222430</td>\n",
              "      <td>3.568136</td>\n",
              "    </tr>\n",
              "    <tr>\n",
              "      <th>min</th>\n",
              "      <td>1.000000</td>\n",
              "      <td>18.000000</td>\n",
              "      <td>102.000000</td>\n",
              "      <td>1.000000</td>\n",
              "      <td>1.000000</td>\n",
              "      <td>1.0</td>\n",
              "      <td>1.000000</td>\n",
              "      <td>1.000000</td>\n",
              "      <td>30.000000</td>\n",
              "      <td>1.000000</td>\n",
              "      <td>...</td>\n",
              "      <td>1.000000</td>\n",
              "      <td>80.0</td>\n",
              "      <td>0.000000</td>\n",
              "      <td>0.000000</td>\n",
              "      <td>0.000000</td>\n",
              "      <td>1.000000</td>\n",
              "      <td>0.000000</td>\n",
              "      <td>0.000000</td>\n",
              "      <td>0.000000</td>\n",
              "      <td>0.000000</td>\n",
              "    </tr>\n",
              "    <tr>\n",
              "      <th>25%</th>\n",
              "      <td>368.250000</td>\n",
              "      <td>30.000000</td>\n",
              "      <td>465.000000</td>\n",
              "      <td>2.000000</td>\n",
              "      <td>2.000000</td>\n",
              "      <td>1.0</td>\n",
              "      <td>491.250000</td>\n",
              "      <td>2.000000</td>\n",
              "      <td>48.000000</td>\n",
              "      <td>2.000000</td>\n",
              "      <td>...</td>\n",
              "      <td>2.000000</td>\n",
              "      <td>80.0</td>\n",
              "      <td>0.000000</td>\n",
              "      <td>6.000000</td>\n",
              "      <td>2.000000</td>\n",
              "      <td>2.000000</td>\n",
              "      <td>3.000000</td>\n",
              "      <td>2.000000</td>\n",
              "      <td>0.000000</td>\n",
              "      <td>2.000000</td>\n",
              "    </tr>\n",
              "    <tr>\n",
              "      <th>50%</th>\n",
              "      <td>735.500000</td>\n",
              "      <td>36.000000</td>\n",
              "      <td>802.000000</td>\n",
              "      <td>7.000000</td>\n",
              "      <td>3.000000</td>\n",
              "      <td>1.0</td>\n",
              "      <td>1020.500000</td>\n",
              "      <td>3.000000</td>\n",
              "      <td>66.000000</td>\n",
              "      <td>3.000000</td>\n",
              "      <td>...</td>\n",
              "      <td>3.000000</td>\n",
              "      <td>80.0</td>\n",
              "      <td>1.000000</td>\n",
              "      <td>10.000000</td>\n",
              "      <td>3.000000</td>\n",
              "      <td>3.000000</td>\n",
              "      <td>5.000000</td>\n",
              "      <td>3.000000</td>\n",
              "      <td>1.000000</td>\n",
              "      <td>3.000000</td>\n",
              "    </tr>\n",
              "    <tr>\n",
              "      <th>75%</th>\n",
              "      <td>1102.750000</td>\n",
              "      <td>43.000000</td>\n",
              "      <td>1157.000000</td>\n",
              "      <td>14.000000</td>\n",
              "      <td>4.000000</td>\n",
              "      <td>1.0</td>\n",
              "      <td>1555.750000</td>\n",
              "      <td>4.000000</td>\n",
              "      <td>83.750000</td>\n",
              "      <td>3.000000</td>\n",
              "      <td>...</td>\n",
              "      <td>4.000000</td>\n",
              "      <td>80.0</td>\n",
              "      <td>1.000000</td>\n",
              "      <td>15.000000</td>\n",
              "      <td>3.000000</td>\n",
              "      <td>3.000000</td>\n",
              "      <td>9.000000</td>\n",
              "      <td>7.000000</td>\n",
              "      <td>3.000000</td>\n",
              "      <td>7.000000</td>\n",
              "    </tr>\n",
              "    <tr>\n",
              "      <th>max</th>\n",
              "      <td>1470.000000</td>\n",
              "      <td>60.000000</td>\n",
              "      <td>1499.000000</td>\n",
              "      <td>29.000000</td>\n",
              "      <td>5.000000</td>\n",
              "      <td>1.0</td>\n",
              "      <td>2068.000000</td>\n",
              "      <td>4.000000</td>\n",
              "      <td>100.000000</td>\n",
              "      <td>4.000000</td>\n",
              "      <td>...</td>\n",
              "      <td>4.000000</td>\n",
              "      <td>80.0</td>\n",
              "      <td>3.000000</td>\n",
              "      <td>40.000000</td>\n",
              "      <td>6.000000</td>\n",
              "      <td>4.000000</td>\n",
              "      <td>40.000000</td>\n",
              "      <td>18.000000</td>\n",
              "      <td>15.000000</td>\n",
              "      <td>17.000000</td>\n",
              "    </tr>\n",
              "  </tbody>\n",
              "</table>\n",
              "<p>8 rows × 27 columns</p>\n",
              "</div>\n",
              "      <button class=\"colab-df-convert\" onclick=\"convertToInteractive('df-1d470811-e2ce-4ac2-b6f2-377141bf6bae')\"\n",
              "              title=\"Convert this dataframe to an interactive table.\"\n",
              "              style=\"display:none;\">\n",
              "        \n",
              "  <svg xmlns=\"http://www.w3.org/2000/svg\" height=\"24px\"viewBox=\"0 0 24 24\"\n",
              "       width=\"24px\">\n",
              "    <path d=\"M0 0h24v24H0V0z\" fill=\"none\"/>\n",
              "    <path d=\"M18.56 5.44l.94 2.06.94-2.06 2.06-.94-2.06-.94-.94-2.06-.94 2.06-2.06.94zm-11 1L8.5 8.5l.94-2.06 2.06-.94-2.06-.94L8.5 2.5l-.94 2.06-2.06.94zm10 10l.94 2.06.94-2.06 2.06-.94-2.06-.94-.94-2.06-.94 2.06-2.06.94z\"/><path d=\"M17.41 7.96l-1.37-1.37c-.4-.4-.92-.59-1.43-.59-.52 0-1.04.2-1.43.59L10.3 9.45l-7.72 7.72c-.78.78-.78 2.05 0 2.83L4 21.41c.39.39.9.59 1.41.59.51 0 1.02-.2 1.41-.59l7.78-7.78 2.81-2.81c.8-.78.8-2.07 0-2.86zM5.41 20L4 18.59l7.72-7.72 1.47 1.35L5.41 20z\"/>\n",
              "  </svg>\n",
              "      </button>\n",
              "      \n",
              "  <style>\n",
              "    .colab-df-container {\n",
              "      display:flex;\n",
              "      flex-wrap:wrap;\n",
              "      gap: 12px;\n",
              "    }\n",
              "\n",
              "    .colab-df-convert {\n",
              "      background-color: #E8F0FE;\n",
              "      border: none;\n",
              "      border-radius: 50%;\n",
              "      cursor: pointer;\n",
              "      display: none;\n",
              "      fill: #1967D2;\n",
              "      height: 32px;\n",
              "      padding: 0 0 0 0;\n",
              "      width: 32px;\n",
              "    }\n",
              "\n",
              "    .colab-df-convert:hover {\n",
              "      background-color: #E2EBFA;\n",
              "      box-shadow: 0px 1px 2px rgba(60, 64, 67, 0.3), 0px 1px 3px 1px rgba(60, 64, 67, 0.15);\n",
              "      fill: #174EA6;\n",
              "    }\n",
              "\n",
              "    [theme=dark] .colab-df-convert {\n",
              "      background-color: #3B4455;\n",
              "      fill: #D2E3FC;\n",
              "    }\n",
              "\n",
              "    [theme=dark] .colab-df-convert:hover {\n",
              "      background-color: #434B5C;\n",
              "      box-shadow: 0px 1px 3px 1px rgba(0, 0, 0, 0.15);\n",
              "      filter: drop-shadow(0px 1px 2px rgba(0, 0, 0, 0.3));\n",
              "      fill: #FFFFFF;\n",
              "    }\n",
              "  </style>\n",
              "\n",
              "      <script>\n",
              "        const buttonEl =\n",
              "          document.querySelector('#df-1d470811-e2ce-4ac2-b6f2-377141bf6bae button.colab-df-convert');\n",
              "        buttonEl.style.display =\n",
              "          google.colab.kernel.accessAllowed ? 'block' : 'none';\n",
              "\n",
              "        async function convertToInteractive(key) {\n",
              "          const element = document.querySelector('#df-1d470811-e2ce-4ac2-b6f2-377141bf6bae');\n",
              "          const dataTable =\n",
              "            await google.colab.kernel.invokeFunction('convertToInteractive',\n",
              "                                                     [key], {});\n",
              "          if (!dataTable) return;\n",
              "\n",
              "          const docLinkHtml = 'Like what you see? Visit the ' +\n",
              "            '<a target=\"_blank\" href=https://colab.research.google.com/notebooks/data_table.ipynb>data table notebook</a>'\n",
              "            + ' to learn more about interactive tables.';\n",
              "          element.innerHTML = '';\n",
              "          dataTable['output_type'] = 'display_data';\n",
              "          await google.colab.output.renderOutput(dataTable, element);\n",
              "          const docLink = document.createElement('div');\n",
              "          docLink.innerHTML = docLinkHtml;\n",
              "          element.appendChild(docLink);\n",
              "        }\n",
              "      </script>\n",
              "    </div>\n",
              "  </div>\n",
              "  "
            ]
          },
          "metadata": {},
          "execution_count": 13
        }
      ],
      "source": [
        "attrition_data.describe()"
      ]
    },
    {
      "cell_type": "markdown",
      "id": "2b24c631",
      "metadata": {
        "id": "2b24c631"
      },
      "source": [
        "The summary statistics shows that the column EmployeeCount has a `mean `and `median` equal to 1 and its  `std` of zero, meaning it has no diiferent values,all the values are the same. This column can be dropped because it has no effect on the data. Looking at the values of the EmployeeNumber also shows that it is like the ID of each employee in the company. This also have no relationship with attribution. Therefore the two columns will be dropped. \n"
      ]
    },
    {
      "cell_type": "code",
      "execution_count": 62,
      "id": "e16f09c0",
      "metadata": {
        "id": "e16f09c0",
        "colab": {
          "base_uri": "https://localhost:8080/",
          "height": 394
        },
        "outputId": "72a783f5-ada1-449a-fb2d-1df75fb17fc3"
      },
      "outputs": [
        {
          "output_type": "execute_result",
          "data": {
            "text/plain": [
              "                id          Age    DailyRate  DistanceFromHome    Education  \\\n",
              "count  1470.000000  1470.000000  1470.000000       1470.000000  1470.000000   \n",
              "mean    735.500000    36.923810   802.485714          9.192517     2.912925   \n",
              "std     424.496761     9.135373   403.509100          8.106864     1.024165   \n",
              "min       1.000000    18.000000   102.000000          1.000000     1.000000   \n",
              "25%     368.250000    30.000000   465.000000          2.000000     2.000000   \n",
              "50%     735.500000    36.000000   802.000000          7.000000     3.000000   \n",
              "75%    1102.750000    43.000000  1157.000000         14.000000     4.000000   \n",
              "max    1470.000000    60.000000  1499.000000         29.000000     5.000000   \n",
              "\n",
              "       EnvironmentSatisfaction   HourlyRate  JobInvolvement     JobLevel  \\\n",
              "count              1470.000000  1470.000000     1470.000000  1470.000000   \n",
              "mean                  2.721769    65.891156        2.729932     2.063946   \n",
              "std                   1.093082    20.329428        0.711561     1.106940   \n",
              "min                   1.000000    30.000000        1.000000     1.000000   \n",
              "25%                   2.000000    48.000000        2.000000     1.000000   \n",
              "50%                   3.000000    66.000000        3.000000     2.000000   \n",
              "75%                   4.000000    83.750000        3.000000     3.000000   \n",
              "max                   4.000000   100.000000        4.000000     5.000000   \n",
              "\n",
              "       JobSatisfaction  ...  RelationshipSatisfaction  StandardHours  \\\n",
              "count      1470.000000  ...               1470.000000         1470.0   \n",
              "mean          2.728571  ...                  2.712245           80.0   \n",
              "std           1.102846  ...                  1.081209            0.0   \n",
              "min           1.000000  ...                  1.000000           80.0   \n",
              "25%           2.000000  ...                  2.000000           80.0   \n",
              "50%           3.000000  ...                  3.000000           80.0   \n",
              "75%           4.000000  ...                  4.000000           80.0   \n",
              "max           4.000000  ...                  4.000000           80.0   \n",
              "\n",
              "       StockOptionLevel  TotalWorkingYears  TrainingTimesLastYear  \\\n",
              "count       1470.000000        1470.000000            1470.000000   \n",
              "mean           0.793878          11.279592               2.799320   \n",
              "std            0.852077           7.780782               1.289271   \n",
              "min            0.000000           0.000000               0.000000   \n",
              "25%            0.000000           6.000000               2.000000   \n",
              "50%            1.000000          10.000000               3.000000   \n",
              "75%            1.000000          15.000000               3.000000   \n",
              "max            3.000000          40.000000               6.000000   \n",
              "\n",
              "       WorkLifeBalance  YearsAtCompany  YearsInCurrentRole  \\\n",
              "count      1470.000000     1470.000000         1470.000000   \n",
              "mean          2.761224        7.008163            4.229252   \n",
              "std           0.706476        6.126525            3.623137   \n",
              "min           1.000000        0.000000            0.000000   \n",
              "25%           2.000000        3.000000            2.000000   \n",
              "50%           3.000000        5.000000            3.000000   \n",
              "75%           3.000000        9.000000            7.000000   \n",
              "max           4.000000       40.000000           18.000000   \n",
              "\n",
              "       YearsSinceLastPromotion  YearsWithCurrManager  \n",
              "count              1470.000000           1470.000000  \n",
              "mean                  2.187755              4.123129  \n",
              "std                   3.222430              3.568136  \n",
              "min                   0.000000              0.000000  \n",
              "25%                   0.000000              2.000000  \n",
              "50%                   1.000000              3.000000  \n",
              "75%                   3.000000              7.000000  \n",
              "max                  15.000000             17.000000  \n",
              "\n",
              "[8 rows x 25 columns]"
            ],
            "text/html": [
              "\n",
              "  <div id=\"df-42113caa-936c-46d9-8e36-3619d46b0f91\">\n",
              "    <div class=\"colab-df-container\">\n",
              "      <div>\n",
              "<style scoped>\n",
              "    .dataframe tbody tr th:only-of-type {\n",
              "        vertical-align: middle;\n",
              "    }\n",
              "\n",
              "    .dataframe tbody tr th {\n",
              "        vertical-align: top;\n",
              "    }\n",
              "\n",
              "    .dataframe thead th {\n",
              "        text-align: right;\n",
              "    }\n",
              "</style>\n",
              "<table border=\"1\" class=\"dataframe\">\n",
              "  <thead>\n",
              "    <tr style=\"text-align: right;\">\n",
              "      <th></th>\n",
              "      <th>id</th>\n",
              "      <th>Age</th>\n",
              "      <th>DailyRate</th>\n",
              "      <th>DistanceFromHome</th>\n",
              "      <th>Education</th>\n",
              "      <th>EnvironmentSatisfaction</th>\n",
              "      <th>HourlyRate</th>\n",
              "      <th>JobInvolvement</th>\n",
              "      <th>JobLevel</th>\n",
              "      <th>JobSatisfaction</th>\n",
              "      <th>...</th>\n",
              "      <th>RelationshipSatisfaction</th>\n",
              "      <th>StandardHours</th>\n",
              "      <th>StockOptionLevel</th>\n",
              "      <th>TotalWorkingYears</th>\n",
              "      <th>TrainingTimesLastYear</th>\n",
              "      <th>WorkLifeBalance</th>\n",
              "      <th>YearsAtCompany</th>\n",
              "      <th>YearsInCurrentRole</th>\n",
              "      <th>YearsSinceLastPromotion</th>\n",
              "      <th>YearsWithCurrManager</th>\n",
              "    </tr>\n",
              "  </thead>\n",
              "  <tbody>\n",
              "    <tr>\n",
              "      <th>count</th>\n",
              "      <td>1470.000000</td>\n",
              "      <td>1470.000000</td>\n",
              "      <td>1470.000000</td>\n",
              "      <td>1470.000000</td>\n",
              "      <td>1470.000000</td>\n",
              "      <td>1470.000000</td>\n",
              "      <td>1470.000000</td>\n",
              "      <td>1470.000000</td>\n",
              "      <td>1470.000000</td>\n",
              "      <td>1470.000000</td>\n",
              "      <td>...</td>\n",
              "      <td>1470.000000</td>\n",
              "      <td>1470.0</td>\n",
              "      <td>1470.000000</td>\n",
              "      <td>1470.000000</td>\n",
              "      <td>1470.000000</td>\n",
              "      <td>1470.000000</td>\n",
              "      <td>1470.000000</td>\n",
              "      <td>1470.000000</td>\n",
              "      <td>1470.000000</td>\n",
              "      <td>1470.000000</td>\n",
              "    </tr>\n",
              "    <tr>\n",
              "      <th>mean</th>\n",
              "      <td>735.500000</td>\n",
              "      <td>36.923810</td>\n",
              "      <td>802.485714</td>\n",
              "      <td>9.192517</td>\n",
              "      <td>2.912925</td>\n",
              "      <td>2.721769</td>\n",
              "      <td>65.891156</td>\n",
              "      <td>2.729932</td>\n",
              "      <td>2.063946</td>\n",
              "      <td>2.728571</td>\n",
              "      <td>...</td>\n",
              "      <td>2.712245</td>\n",
              "      <td>80.0</td>\n",
              "      <td>0.793878</td>\n",
              "      <td>11.279592</td>\n",
              "      <td>2.799320</td>\n",
              "      <td>2.761224</td>\n",
              "      <td>7.008163</td>\n",
              "      <td>4.229252</td>\n",
              "      <td>2.187755</td>\n",
              "      <td>4.123129</td>\n",
              "    </tr>\n",
              "    <tr>\n",
              "      <th>std</th>\n",
              "      <td>424.496761</td>\n",
              "      <td>9.135373</td>\n",
              "      <td>403.509100</td>\n",
              "      <td>8.106864</td>\n",
              "      <td>1.024165</td>\n",
              "      <td>1.093082</td>\n",
              "      <td>20.329428</td>\n",
              "      <td>0.711561</td>\n",
              "      <td>1.106940</td>\n",
              "      <td>1.102846</td>\n",
              "      <td>...</td>\n",
              "      <td>1.081209</td>\n",
              "      <td>0.0</td>\n",
              "      <td>0.852077</td>\n",
              "      <td>7.780782</td>\n",
              "      <td>1.289271</td>\n",
              "      <td>0.706476</td>\n",
              "      <td>6.126525</td>\n",
              "      <td>3.623137</td>\n",
              "      <td>3.222430</td>\n",
              "      <td>3.568136</td>\n",
              "    </tr>\n",
              "    <tr>\n",
              "      <th>min</th>\n",
              "      <td>1.000000</td>\n",
              "      <td>18.000000</td>\n",
              "      <td>102.000000</td>\n",
              "      <td>1.000000</td>\n",
              "      <td>1.000000</td>\n",
              "      <td>1.000000</td>\n",
              "      <td>30.000000</td>\n",
              "      <td>1.000000</td>\n",
              "      <td>1.000000</td>\n",
              "      <td>1.000000</td>\n",
              "      <td>...</td>\n",
              "      <td>1.000000</td>\n",
              "      <td>80.0</td>\n",
              "      <td>0.000000</td>\n",
              "      <td>0.000000</td>\n",
              "      <td>0.000000</td>\n",
              "      <td>1.000000</td>\n",
              "      <td>0.000000</td>\n",
              "      <td>0.000000</td>\n",
              "      <td>0.000000</td>\n",
              "      <td>0.000000</td>\n",
              "    </tr>\n",
              "    <tr>\n",
              "      <th>25%</th>\n",
              "      <td>368.250000</td>\n",
              "      <td>30.000000</td>\n",
              "      <td>465.000000</td>\n",
              "      <td>2.000000</td>\n",
              "      <td>2.000000</td>\n",
              "      <td>2.000000</td>\n",
              "      <td>48.000000</td>\n",
              "      <td>2.000000</td>\n",
              "      <td>1.000000</td>\n",
              "      <td>2.000000</td>\n",
              "      <td>...</td>\n",
              "      <td>2.000000</td>\n",
              "      <td>80.0</td>\n",
              "      <td>0.000000</td>\n",
              "      <td>6.000000</td>\n",
              "      <td>2.000000</td>\n",
              "      <td>2.000000</td>\n",
              "      <td>3.000000</td>\n",
              "      <td>2.000000</td>\n",
              "      <td>0.000000</td>\n",
              "      <td>2.000000</td>\n",
              "    </tr>\n",
              "    <tr>\n",
              "      <th>50%</th>\n",
              "      <td>735.500000</td>\n",
              "      <td>36.000000</td>\n",
              "      <td>802.000000</td>\n",
              "      <td>7.000000</td>\n",
              "      <td>3.000000</td>\n",
              "      <td>3.000000</td>\n",
              "      <td>66.000000</td>\n",
              "      <td>3.000000</td>\n",
              "      <td>2.000000</td>\n",
              "      <td>3.000000</td>\n",
              "      <td>...</td>\n",
              "      <td>3.000000</td>\n",
              "      <td>80.0</td>\n",
              "      <td>1.000000</td>\n",
              "      <td>10.000000</td>\n",
              "      <td>3.000000</td>\n",
              "      <td>3.000000</td>\n",
              "      <td>5.000000</td>\n",
              "      <td>3.000000</td>\n",
              "      <td>1.000000</td>\n",
              "      <td>3.000000</td>\n",
              "    </tr>\n",
              "    <tr>\n",
              "      <th>75%</th>\n",
              "      <td>1102.750000</td>\n",
              "      <td>43.000000</td>\n",
              "      <td>1157.000000</td>\n",
              "      <td>14.000000</td>\n",
              "      <td>4.000000</td>\n",
              "      <td>4.000000</td>\n",
              "      <td>83.750000</td>\n",
              "      <td>3.000000</td>\n",
              "      <td>3.000000</td>\n",
              "      <td>4.000000</td>\n",
              "      <td>...</td>\n",
              "      <td>4.000000</td>\n",
              "      <td>80.0</td>\n",
              "      <td>1.000000</td>\n",
              "      <td>15.000000</td>\n",
              "      <td>3.000000</td>\n",
              "      <td>3.000000</td>\n",
              "      <td>9.000000</td>\n",
              "      <td>7.000000</td>\n",
              "      <td>3.000000</td>\n",
              "      <td>7.000000</td>\n",
              "    </tr>\n",
              "    <tr>\n",
              "      <th>max</th>\n",
              "      <td>1470.000000</td>\n",
              "      <td>60.000000</td>\n",
              "      <td>1499.000000</td>\n",
              "      <td>29.000000</td>\n",
              "      <td>5.000000</td>\n",
              "      <td>4.000000</td>\n",
              "      <td>100.000000</td>\n",
              "      <td>4.000000</td>\n",
              "      <td>5.000000</td>\n",
              "      <td>4.000000</td>\n",
              "      <td>...</td>\n",
              "      <td>4.000000</td>\n",
              "      <td>80.0</td>\n",
              "      <td>3.000000</td>\n",
              "      <td>40.000000</td>\n",
              "      <td>6.000000</td>\n",
              "      <td>4.000000</td>\n",
              "      <td>40.000000</td>\n",
              "      <td>18.000000</td>\n",
              "      <td>15.000000</td>\n",
              "      <td>17.000000</td>\n",
              "    </tr>\n",
              "  </tbody>\n",
              "</table>\n",
              "<p>8 rows × 25 columns</p>\n",
              "</div>\n",
              "      <button class=\"colab-df-convert\" onclick=\"convertToInteractive('df-42113caa-936c-46d9-8e36-3619d46b0f91')\"\n",
              "              title=\"Convert this dataframe to an interactive table.\"\n",
              "              style=\"display:none;\">\n",
              "        \n",
              "  <svg xmlns=\"http://www.w3.org/2000/svg\" height=\"24px\"viewBox=\"0 0 24 24\"\n",
              "       width=\"24px\">\n",
              "    <path d=\"M0 0h24v24H0V0z\" fill=\"none\"/>\n",
              "    <path d=\"M18.56 5.44l.94 2.06.94-2.06 2.06-.94-2.06-.94-.94-2.06-.94 2.06-2.06.94zm-11 1L8.5 8.5l.94-2.06 2.06-.94-2.06-.94L8.5 2.5l-.94 2.06-2.06.94zm10 10l.94 2.06.94-2.06 2.06-.94-2.06-.94-.94-2.06-.94 2.06-2.06.94z\"/><path d=\"M17.41 7.96l-1.37-1.37c-.4-.4-.92-.59-1.43-.59-.52 0-1.04.2-1.43.59L10.3 9.45l-7.72 7.72c-.78.78-.78 2.05 0 2.83L4 21.41c.39.39.9.59 1.41.59.51 0 1.02-.2 1.41-.59l7.78-7.78 2.81-2.81c.8-.78.8-2.07 0-2.86zM5.41 20L4 18.59l7.72-7.72 1.47 1.35L5.41 20z\"/>\n",
              "  </svg>\n",
              "      </button>\n",
              "      \n",
              "  <style>\n",
              "    .colab-df-container {\n",
              "      display:flex;\n",
              "      flex-wrap:wrap;\n",
              "      gap: 12px;\n",
              "    }\n",
              "\n",
              "    .colab-df-convert {\n",
              "      background-color: #E8F0FE;\n",
              "      border: none;\n",
              "      border-radius: 50%;\n",
              "      cursor: pointer;\n",
              "      display: none;\n",
              "      fill: #1967D2;\n",
              "      height: 32px;\n",
              "      padding: 0 0 0 0;\n",
              "      width: 32px;\n",
              "    }\n",
              "\n",
              "    .colab-df-convert:hover {\n",
              "      background-color: #E2EBFA;\n",
              "      box-shadow: 0px 1px 2px rgba(60, 64, 67, 0.3), 0px 1px 3px 1px rgba(60, 64, 67, 0.15);\n",
              "      fill: #174EA6;\n",
              "    }\n",
              "\n",
              "    [theme=dark] .colab-df-convert {\n",
              "      background-color: #3B4455;\n",
              "      fill: #D2E3FC;\n",
              "    }\n",
              "\n",
              "    [theme=dark] .colab-df-convert:hover {\n",
              "      background-color: #434B5C;\n",
              "      box-shadow: 0px 1px 3px 1px rgba(0, 0, 0, 0.15);\n",
              "      filter: drop-shadow(0px 1px 2px rgba(0, 0, 0, 0.3));\n",
              "      fill: #FFFFFF;\n",
              "    }\n",
              "  </style>\n",
              "\n",
              "      <script>\n",
              "        const buttonEl =\n",
              "          document.querySelector('#df-42113caa-936c-46d9-8e36-3619d46b0f91 button.colab-df-convert');\n",
              "        buttonEl.style.display =\n",
              "          google.colab.kernel.accessAllowed ? 'block' : 'none';\n",
              "\n",
              "        async function convertToInteractive(key) {\n",
              "          const element = document.querySelector('#df-42113caa-936c-46d9-8e36-3619d46b0f91');\n",
              "          const dataTable =\n",
              "            await google.colab.kernel.invokeFunction('convertToInteractive',\n",
              "                                                     [key], {});\n",
              "          if (!dataTable) return;\n",
              "\n",
              "          const docLinkHtml = 'Like what you see? Visit the ' +\n",
              "            '<a target=\"_blank\" href=https://colab.research.google.com/notebooks/data_table.ipynb>data table notebook</a>'\n",
              "            + ' to learn more about interactive tables.';\n",
              "          element.innerHTML = '';\n",
              "          dataTable['output_type'] = 'display_data';\n",
              "          await google.colab.output.renderOutput(dataTable, element);\n",
              "          const docLink = document.createElement('div');\n",
              "          docLink.innerHTML = docLinkHtml;\n",
              "          element.appendChild(docLink);\n",
              "        }\n",
              "      </script>\n",
              "    </div>\n",
              "  </div>\n",
              "  "
            ]
          },
          "metadata": {},
          "execution_count": 62
        }
      ],
      "source": [
        "attrition_data.drop([\"EmployeeCount\", \"EmployeeNumber\"], axis=1,inplace=True)\n",
        "attrition_data.head()\n",
        "attrition_data.describe()"
      ]
    },
    {
      "cell_type": "markdown",
      "source": [
        "###  Getting the categorical variables in the dataset"
      ],
      "metadata": {
        "id": "AFtsvesrDh9Z"
      },
      "id": "AFtsvesrDh9Z"
    },
    {
      "cell_type": "code",
      "source": [
        "#Using the  The given categorical data from the dictionary of the data \n",
        "dictionary_of_data={ \"Education\": { \"1\": \"Below College\", \"2\": \"College\", \"3\": \"Bachelor\", \"4\": \"Master\", \"5\": \"Doctor\" }, \"EnvironmentSatisfaction\": { \"1\": \"Low\", \"2\": \"Medium\", \"3\": \"High\", \"4\": \"Very High\" }, \"JobInvolvement\": { \"1\": \"Low\", \"2\": \"Medium\", \"3\": \"High\", \"4\": \"Very High\" }, \"JobSatisfaction\": { \"1\": \"Low\", \"2\": \"Medium\", \"3\": \"High\", \"4\": \"Very High\" }, \"PerformanceRating\": { \"1\": \"Low\", \"2\": \"Good\", \"3\": \"Excellent\", \"4\": \"Outstanding\" }, \"RelationshipSatisfaction\": { \"1\": \"Low\", \"2\": \"Good\", \"3\": \"Excellent\", \"4\": \"Outstanding\" }, \"WorkLifeBalance\": { \"1\": \"Bad\", \"2\": \"Good\", \"3\": \"Better\", \"4\": \"Best\" } }\n",
        "\n",
        "categorical_data=list(dictionary_of_data)\n",
        "#splitting the dataset according to their data type\n",
        "object_data=[var for var in attrition_data.columns if attrition_data[var].dtype==\"O\"]\n",
        "int_data=[var for var in attrition_data.columns if  attrition_data[var].dtype!=\"O\"]\n"
      ],
      "metadata": {
        "id": "7DSW3mrpVgEb"
      },
      "id": "7DSW3mrpVgEb",
      "execution_count": 15,
      "outputs": []
    },
    {
      "cell_type": "code",
      "source": [
        "# classifying the dataset into numerical and categorical\n",
        "categorical_data.extend(object_data)\n",
        "print(categorical_data)"
      ],
      "metadata": {
        "colab": {
          "base_uri": "https://localhost:8080/"
        },
        "id": "IZdjrXH4EBts",
        "outputId": "0c834154-9351-46af-d1c8-a848d4c56096"
      },
      "id": "IZdjrXH4EBts",
      "execution_count": 63,
      "outputs": [
        {
          "output_type": "stream",
          "name": "stdout",
          "text": [
            "['Education', 'EnvironmentSatisfaction', 'JobInvolvement', 'JobSatisfaction', 'PerformanceRating', 'RelationshipSatisfaction', 'WorkLifeBalance', 'Attrition', 'BusinessTravel', 'Department', 'EducationField', 'Gender', 'JobRole', 'MaritalStatus', 'Over18', 'OverTime', 'Attrition', 'BusinessTravel', 'Department', 'EducationField', 'Gender', 'JobRole', 'MaritalStatus', 'Over18', 'OverTime']\n"
          ]
        }
      ]
    },
    {
      "cell_type": "markdown",
      "source": [],
      "metadata": {
        "id": "_KyBL2ChDuL4"
      },
      "id": "_KyBL2ChDuL4"
    },
    {
      "cell_type": "code",
      "source": [
        "#getting the distribution of the Attrition column\n",
        "sns.countplot(data=attrition_data, x=\"Attrition\")\n",
        "plt.show()"
      ],
      "metadata": {
        "colab": {
          "base_uri": "https://localhost:8080/",
          "height": 279
        },
        "id": "gQRiMCbR_FYF",
        "outputId": "1706be20-eb61-40e3-d829-6c64ac0e155e"
      },
      "id": "gQRiMCbR_FYF",
      "execution_count": 61,
      "outputs": [
        {
          "output_type": "display_data",
          "data": {
            "text/plain": [
              "<Figure size 432x288 with 1 Axes>"
            ],
            "image/png": "[encoded data removed]"
          },
          "metadata": {
            "needs_background": "light"
          }
        }
      ]
    },
    {
      "cell_type": "markdown",
      "source": [
        "The plot above indicates that target variable is imbalanced."
      ],
      "metadata": {
        "id": "JrJPN42B_JWA"
      },
      "id": "JrJPN42B_JWA"
    },
    {
      "cell_type": "markdown",
      "source": [
        "The above plot indicates that the Attrition column has about 1200 NOs and about 300 Yes in the dataset. "
      ],
      "metadata": {
        "id": "-Zn5bMpfDXLE"
      },
      "id": "-Zn5bMpfDXLE"
    },
    {
      "cell_type": "markdown",
      "source": [
        "# 4 ANALYSIS AND VISUALIZATION\n",
        "\n",
        "###  Analysis of quantitative variables against the target variable."
      ],
      "metadata": {
        "id": "W9OfJDfcENGC"
      },
      "id": "W9OfJDfcENGC"
    },
    {
      "cell_type": "code",
      "execution_count": null,
      "id": "101b3ae2",
      "metadata": {
        "id": "101b3ae2",
        "outputId": "469d1c97-5eb7-40d3-deb2-c37373ab6e56",
        "colab": {
          "base_uri": "https://localhost:8080/",
          "height": 606
        }
      },
      "outputs": [
        {
          "output_type": "display_data",
          "data": {
            "text/plain": [
              "<Figure size 1080x720 with 6 Axes>"
            ],
            "image/png": "[encoded data removed]"
          },
          "metadata": {
            "needs_background": "light"
          }
        }
      ],
      "source": [
        "#Comparing numerical data with attrition using boxplots to find association between the variables\n",
        "\n",
        "plt.figure(figsize=(15, 10))\n",
        "\n",
        "plt.subplot(2,3,1)\n",
        "sns.boxplot(data=attrition_data, x=\"Attrition\", y=\"MonthlyIncome\")\n",
        "\n",
        "plt.subplot(2,3,2)\n",
        "sns.boxplot(data=attrition_data, x=\"Attrition\", y= \"Age\")\n",
        "\n",
        "plt.subplot(2,3,3)\n",
        "sns.boxplot(data=attrition_data, x=\"Attrition\", y= \"DistanceFromHome\")\n",
        "\n",
        "plt.subplot(2,3,4)\n",
        "sns.boxplot(data=attrition_data, x=\"Attrition\", y= \"YearsSinceLastPromotion\")\n",
        "\n",
        "plt.subplot(2,3,5)\n",
        "sns.boxplot(data=attrition_data, x=\"Attrition\", y= \"TotalWorkingYears\")\n",
        "\n",
        "\n",
        "plt.subplot(2,3,6)\n",
        "sns.boxplot(data=attrition_data, x=\"Attrition\", y= \"YearsInCurrentRole\")\n",
        "plt.show()"
      ]
    },
    {
      "cell_type": "code",
      "source": [
        "#checking other numerical data with attriton feature\n",
        "\n",
        "plt.figure(figsize=(15, 10))\n",
        "\n",
        "plt.subplot(2,3,1)\n",
        "sns.boxplot(data=attrition_data, x=\"Attrition\", y=\"MonthlyRate\")\n",
        "\n",
        "plt.subplot(2,3,2)\n",
        "sns.boxplot(data=attrition_data, x=\"Attrition\", y= \"NumCompaniesWorked\")\n",
        "\n",
        "plt.subplot(2,3,3)\n",
        "sns.boxplot(data=attrition_data, x=\"Attrition\", y= \"PercentSalaryHike\")\n",
        "\n",
        "\n",
        "plt.subplot(2,3,4)\n",
        "sns.boxplot(data=attrition_data, x=\"Attrition\", y= \"YearsAtCompany\")\n",
        "\n",
        "\n",
        "plt.subplot(2,3,6)\n",
        "sns.boxplot(data=attrition_data, x=\"Attrition\", y= \"YearsWithCurrManager\")\n",
        "plt.show()"
      ],
      "metadata": {
        "colab": {
          "base_uri": "https://localhost:8080/",
          "height": 606
        },
        "id": "1sLI_79gaom3",
        "outputId": "000f8ceb-ebab-45d8-abfe-30c891fb9900"
      },
      "id": "1sLI_79gaom3",
      "execution_count": null,
      "outputs": [
        {
          "output_type": "display_data",
          "data": {
            "text/plain": [
              "<Figure size 1080x720 with 5 Axes>"
            ],
            "image/png": "[encoded data removed]"
          },
          "metadata": {
            "needs_background": "light"
          }
        }
      ]
    },
    {
      "cell_type": "markdown",
      "source": [
        "From the above visualizations, it is seen that features that have significant effect on attrition are \n",
        "\n",
        "*   NumCompaniesWorked\n",
        "*   DistanceFromHome\n",
        "\n",
        "The plots above indicates that NumberofcomaniesWorked and DistanceFromHome for attrition tend to be higher and have more variation.\n",
        "\n",
        "This can be further visualized with a barplot\n",
        "\n"
      ],
      "metadata": {
        "id": "HWx48WOwcs37"
      },
      "id": "HWx48WOwcs37"
    },
    {
      "cell_type": "code",
      "source": [
        "plt.figure(figsize=(12,6))\n",
        "plt.subplot(2,2,1)\n",
        "\n",
        "sns.barplot(data=attrition_data,x=\"Attrition\", y=\"NumCompaniesWorked\")\n",
        "plt.subplot(2,2,2)\n",
        "sns.barplot(data=attrition_data,x=\"Attrition\", y=\"DistanceFromHome\")\n",
        "plt.subplot(2,2,3)\n",
        "sns.barplot(data=attrition_data,x=\"Attrition\", y=\"YearsWithCurrManager\")\n",
        "\n",
        "plt.subplot(2,2,4)\n",
        "\n",
        "sns.barplot(data=attrition_data,x=\"Attrition\", y=\"Age\")\n",
        "\n",
        "plt.show()\n"
      ],
      "metadata": {
        "colab": {
          "base_uri": "https://localhost:8080/",
          "height": 389
        },
        "id": "mwmWf0xacsY8",
        "outputId": "4f543d09-87fe-4404-fff6-a01d64f63932"
      },
      "id": "mwmWf0xacsY8",
      "execution_count": null,
      "outputs": [
        {
          "output_type": "display_data",
          "data": {
            "text/plain": [
              "<Figure size 864x432 with 4 Axes>"
            ],
            "image/png": "[encoded data removed]"
          },
          "metadata": {
            "needs_background": "light"
          }
        }
      ]
    },
    {
      "cell_type": "markdown",
      "source": [
        "The barplot confirms that the NumCompaniesWorked and DistanceFromHome affects attrition while that the YearsWithCurrManager and Age does not associate with the Attrition(Yes)"
      ],
      "metadata": {
        "id": "UxMXxyo1j6tz"
      },
      "id": "UxMXxyo1j6tz"
    },
    {
      "cell_type": "markdown",
      "source": [
        "Analysis of categorical variables against the target variable."
      ],
      "metadata": {
        "id": "pCf9o4tOFvJa"
      },
      "id": "pCf9o4tOFvJa"
    },
    {
      "cell_type": "code",
      "source": [
        "attrition_data[categorical_data]"
      ],
      "metadata": {
        "colab": {
          "base_uri": "https://localhost:8080/",
          "height": 661
        },
        "id": "4ubcCejjCX3f",
        "outputId": "a8a278a8-c635-49ee-df54-bc6c31aeb7c1"
      },
      "id": "4ubcCejjCX3f",
      "execution_count": null,
      "outputs": [
        {
          "output_type": "execute_result",
          "data": {
            "text/plain": [
              "      Education  EnvironmentSatisfaction  JobInvolvement  JobSatisfaction  \\\n",
              "0             2                        2               3                4   \n",
              "1             1                        3               2                2   \n",
              "2             2                        4               2                3   \n",
              "3             4                        4               3                3   \n",
              "4             1                        1               3                2   \n",
              "...         ...                      ...             ...              ...   \n",
              "1465          2                        3               4                4   \n",
              "1466          1                        4               2                1   \n",
              "1467          3                        2               4                2   \n",
              "1468          3                        4               2                2   \n",
              "1469          3                        2               4                3   \n",
              "\n",
              "      PerformanceRating  RelationshipSatisfaction  WorkLifeBalance Attrition  \\\n",
              "0                     3                         1                1       Yes   \n",
              "1                     4                         4                3        No   \n",
              "2                     3                         2                3       Yes   \n",
              "3                     3                         3                3        No   \n",
              "4                     3                         4                3        No   \n",
              "...                 ...                       ...              ...       ...   \n",
              "1465                  3                         3                3        No   \n",
              "1466                  3                         1                3        No   \n",
              "1467                  4                         2                3        No   \n",
              "1468                  3                         4                2        No   \n",
              "1469                  3                         1                4        No   \n",
              "\n",
              "         BusinessTravel              Department EducationField  Gender  \\\n",
              "0         Travel_Rarely                   Sales  Life Sciences  Female   \n",
              "1     Travel_Frequently  Research & Development  Life Sciences    Male   \n",
              "2         Travel_Rarely  Research & Development          Other    Male   \n",
              "3     Travel_Frequently  Research & Development  Life Sciences  Female   \n",
              "4         Travel_Rarely  Research & Development        Medical    Male   \n",
              "...                 ...                     ...            ...     ...   \n",
              "1465  Travel_Frequently  Research & Development        Medical    Male   \n",
              "1466      Travel_Rarely  Research & Development        Medical    Male   \n",
              "1467      Travel_Rarely  Research & Development  Life Sciences    Male   \n",
              "1468  Travel_Frequently                   Sales        Medical    Male   \n",
              "1469      Travel_Rarely  Research & Development        Medical    Male   \n",
              "\n",
              "                        JobRole MaritalStatus Over18 OverTime  \n",
              "0               Sales Executive        Single      Y      Yes  \n",
              "1            Research Scientist       Married      Y       No  \n",
              "2         Laboratory Technician        Single      Y      Yes  \n",
              "3            Research Scientist       Married      Y      Yes  \n",
              "4         Laboratory Technician       Married      Y       No  \n",
              "...                         ...           ...    ...      ...  \n",
              "1465      Laboratory Technician       Married      Y       No  \n",
              "1466  Healthcare Representative       Married      Y       No  \n",
              "1467     Manufacturing Director       Married      Y      Yes  \n",
              "1468            Sales Executive       Married      Y       No  \n",
              "1469      Laboratory Technician       Married      Y       No  \n",
              "\n",
              "[1470 rows x 16 columns]"
            ],
            "text/html": [
              "\n",
              "  <div id=\"df-13e01c91-b9a8-4fa6-acb4-dd5ae3b13890\">\n",
              "    <div class=\"colab-df-container\">\n",
              "      <div>\n",
              "<style scoped>\n",
              "    .dataframe tbody tr th:only-of-type {\n",
              "        vertical-align: middle;\n",
              "    }\n",
              "\n",
              "    .dataframe tbody tr th {\n",
              "        vertical-align: top;\n",
              "    }\n",
              "\n",
              "    .dataframe thead th {\n",
              "        text-align: right;\n",
              "    }\n",
              "</style>\n",
              "<table border=\"1\" class=\"dataframe\">\n",
              "  <thead>\n",
              "    <tr style=\"text-align: right;\">\n",
              "      <th></th>\n",
              "      <th>Education</th>\n",
              "      <th>EnvironmentSatisfaction</th>\n",
              "      <th>JobInvolvement</th>\n",
              "      <th>JobSatisfaction</th>\n",
              "      <th>PerformanceRating</th>\n",
              "      <th>RelationshipSatisfaction</th>\n",
              "      <th>WorkLifeBalance</th>\n",
              "      <th>Attrition</th>\n",
              "      <th>BusinessTravel</th>\n",
              "      <th>Department</th>\n",
              "      <th>EducationField</th>\n",
              "      <th>Gender</th>\n",
              "      <th>JobRole</th>\n",
              "      <th>MaritalStatus</th>\n",
              "      <th>Over18</th>\n",
              "      <th>OverTime</th>\n",
              "    </tr>\n",
              "  </thead>\n",
              "  <tbody>\n",
              "    <tr>\n",
              "      <th>0</th>\n",
              "      <td>2</td>\n",
              "      <td>2</td>\n",
              "      <td>3</td>\n",
              "      <td>4</td>\n",
              "      <td>3</td>\n",
              "      <td>1</td>\n",
              "      <td>1</td>\n",
              "      <td>Yes</td>\n",
              "      <td>Travel_Rarely</td>\n",
              "      <td>Sales</td>\n",
              "      <td>Life Sciences</td>\n",
              "      <td>Female</td>\n",
              "      <td>Sales Executive</td>\n",
              "      <td>Single</td>\n",
              "      <td>Y</td>\n",
              "      <td>Yes</td>\n",
              "    </tr>\n",
              "    <tr>\n",
              "      <th>1</th>\n",
              "      <td>1</td>\n",
              "      <td>3</td>\n",
              "      <td>2</td>\n",
              "      <td>2</td>\n",
              "      <td>4</td>\n",
              "      <td>4</td>\n",
              "      <td>3</td>\n",
              "      <td>No</td>\n",
              "      <td>Travel_Frequently</td>\n",
              "      <td>Research &amp; Development</td>\n",
              "      <td>Life Sciences</td>\n",
              "      <td>Male</td>\n",
              "      <td>Research Scientist</td>\n",
              "      <td>Married</td>\n",
              "      <td>Y</td>\n",
              "      <td>No</td>\n",
              "    </tr>\n",
              "    <tr>\n",
              "      <th>2</th>\n",
              "      <td>2</td>\n",
              "      <td>4</td>\n",
              "      <td>2</td>\n",
              "      <td>3</td>\n",
              "      <td>3</td>\n",
              "      <td>2</td>\n",
              "      <td>3</td>\n",
              "      <td>Yes</td>\n",
              "      <td>Travel_Rarely</td>\n",
              "      <td>Research &amp; Development</td>\n",
              "      <td>Other</td>\n",
              "      <td>Male</td>\n",
              "      <td>Laboratory Technician</td>\n",
              "      <td>Single</td>\n",
              "      <td>Y</td>\n",
              "      <td>Yes</td>\n",
              "    </tr>\n",
              "    <tr>\n",
              "      <th>3</th>\n",
              "      <td>4</td>\n",
              "      <td>4</td>\n",
              "      <td>3</td>\n",
              "      <td>3</td>\n",
              "      <td>3</td>\n",
              "      <td>3</td>\n",
              "      <td>3</td>\n",
              "      <td>No</td>\n",
              "      <td>Travel_Frequently</td>\n",
              "      <td>Research &amp; Development</td>\n",
              "      <td>Life Sciences</td>\n",
              "      <td>Female</td>\n",
              "      <td>Research Scientist</td>\n",
              "      <td>Married</td>\n",
              "      <td>Y</td>\n",
              "      <td>Yes</td>\n",
              "    </tr>\n",
              "    <tr>\n",
              "      <th>4</th>\n",
              "      <td>1</td>\n",
              "      <td>1</td>\n",
              "      <td>3</td>\n",
              "      <td>2</td>\n",
              "      <td>3</td>\n",
              "      <td>4</td>\n",
              "      <td>3</td>\n",
              "      <td>No</td>\n",
              "      <td>Travel_Rarely</td>\n",
              "      <td>Research &amp; Development</td>\n",
              "      <td>Medical</td>\n",
              "      <td>Male</td>\n",
              "      <td>Laboratory Technician</td>\n",
              "      <td>Married</td>\n",
              "      <td>Y</td>\n",
              "      <td>No</td>\n",
              "    </tr>\n",
              "    <tr>\n",
              "      <th>...</th>\n",
              "      <td>...</td>\n",
              "      <td>...</td>\n",
              "      <td>...</td>\n",
              "      <td>...</td>\n",
              "      <td>...</td>\n",
              "      <td>...</td>\n",
              "      <td>...</td>\n",
              "      <td>...</td>\n",
              "      <td>...</td>\n",
              "      <td>...</td>\n",
              "      <td>...</td>\n",
              "      <td>...</td>\n",
              "      <td>...</td>\n",
              "      <td>...</td>\n",
              "      <td>...</td>\n",
              "      <td>...</td>\n",
              "    </tr>\n",
              "    <tr>\n",
              "      <th>1465</th>\n",
              "      <td>2</td>\n",
              "      <td>3</td>\n",
              "      <td>4</td>\n",
              "      <td>4</td>\n",
              "      <td>3</td>\n",
              "      <td>3</td>\n",
              "      <td>3</td>\n",
              "      <td>No</td>\n",
              "      <td>Travel_Frequently</td>\n",
              "      <td>Research &amp; Development</td>\n",
              "      <td>Medical</td>\n",
              "      <td>Male</td>\n",
              "      <td>Laboratory Technician</td>\n",
              "      <td>Married</td>\n",
              "      <td>Y</td>\n",
              "      <td>No</td>\n",
              "    </tr>\n",
              "    <tr>\n",
              "      <th>1466</th>\n",
              "      <td>1</td>\n",
              "      <td>4</td>\n",
              "      <td>2</td>\n",
              "      <td>1</td>\n",
              "      <td>3</td>\n",
              "      <td>1</td>\n",
              "      <td>3</td>\n",
              "      <td>No</td>\n",
              "      <td>Travel_Rarely</td>\n",
              "      <td>Research &amp; Development</td>\n",
              "      <td>Medical</td>\n",
              "      <td>Male</td>\n",
              "      <td>Healthcare Representative</td>\n",
              "      <td>Married</td>\n",
              "      <td>Y</td>\n",
              "      <td>No</td>\n",
              "    </tr>\n",
              "    <tr>\n",
              "      <th>1467</th>\n",
              "      <td>3</td>\n",
              "      <td>2</td>\n",
              "      <td>4</td>\n",
              "      <td>2</td>\n",
              "      <td>4</td>\n",
              "      <td>2</td>\n",
              "      <td>3</td>\n",
              "      <td>No</td>\n",
              "      <td>Travel_Rarely</td>\n",
              "      <td>Research &amp; Development</td>\n",
              "      <td>Life Sciences</td>\n",
              "      <td>Male</td>\n",
              "      <td>Manufacturing Director</td>\n",
              "      <td>Married</td>\n",
              "      <td>Y</td>\n",
              "      <td>Yes</td>\n",
              "    </tr>\n",
              "    <tr>\n",
              "      <th>1468</th>\n",
              "      <td>3</td>\n",
              "      <td>4</td>\n",
              "      <td>2</td>\n",
              "      <td>2</td>\n",
              "      <td>3</td>\n",
              "      <td>4</td>\n",
              "      <td>2</td>\n",
              "      <td>No</td>\n",
              "      <td>Travel_Frequently</td>\n",
              "      <td>Sales</td>\n",
              "      <td>Medical</td>\n",
              "      <td>Male</td>\n",
              "      <td>Sales Executive</td>\n",
              "      <td>Married</td>\n",
              "      <td>Y</td>\n",
              "      <td>No</td>\n",
              "    </tr>\n",
              "    <tr>\n",
              "      <th>1469</th>\n",
              "      <td>3</td>\n",
              "      <td>2</td>\n",
              "      <td>4</td>\n",
              "      <td>3</td>\n",
              "      <td>3</td>\n",
              "      <td>1</td>\n",
              "      <td>4</td>\n",
              "      <td>No</td>\n",
              "      <td>Travel_Rarely</td>\n",
              "      <td>Research &amp; Development</td>\n",
              "      <td>Medical</td>\n",
              "      <td>Male</td>\n",
              "      <td>Laboratory Technician</td>\n",
              "      <td>Married</td>\n",
              "      <td>Y</td>\n",
              "      <td>No</td>\n",
              "    </tr>\n",
              "  </tbody>\n",
              "</table>\n",
              "<p>1470 rows × 16 columns</p>\n",
              "</div>\n",
              "      <button class=\"colab-df-convert\" onclick=\"convertToInteractive('df-13e01c91-b9a8-4fa6-acb4-dd5ae3b13890')\"\n",
              "              title=\"Convert this dataframe to an interactive table.\"\n",
              "              style=\"display:none;\">\n",
              "        \n",
              "  <svg xmlns=\"http://www.w3.org/2000/svg\" height=\"24px\"viewBox=\"0 0 24 24\"\n",
              "       width=\"24px\">\n",
              "    <path d=\"M0 0h24v24H0V0z\" fill=\"none\"/>\n",
              "    <path d=\"M18.56 5.44l.94 2.06.94-2.06 2.06-.94-2.06-.94-.94-2.06-.94 2.06-2.06.94zm-11 1L8.5 8.5l.94-2.06 2.06-.94-2.06-.94L8.5 2.5l-.94 2.06-2.06.94zm10 10l.94 2.06.94-2.06 2.06-.94-2.06-.94-.94-2.06-.94 2.06-2.06.94z\"/><path d=\"M17.41 7.96l-1.37-1.37c-.4-.4-.92-.59-1.43-.59-.52 0-1.04.2-1.43.59L10.3 9.45l-7.72 7.72c-.78.78-.78 2.05 0 2.83L4 21.41c.39.39.9.59 1.41.59.51 0 1.02-.2 1.41-.59l7.78-7.78 2.81-2.81c.8-.78.8-2.07 0-2.86zM5.41 20L4 18.59l7.72-7.72 1.47 1.35L5.41 20z\"/>\n",
              "  </svg>\n",
              "      </button>\n",
              "      \n",
              "  <style>\n",
              "    .colab-df-container {\n",
              "      display:flex;\n",
              "      flex-wrap:wrap;\n",
              "      gap: 12px;\n",
              "    }\n",
              "\n",
              "    .colab-df-convert {\n",
              "      background-color: #E8F0FE;\n",
              "      border: none;\n",
              "      border-radius: 50%;\n",
              "      cursor: pointer;\n",
              "      display: none;\n",
              "      fill: #1967D2;\n",
              "      height: 32px;\n",
              "      padding: 0 0 0 0;\n",
              "      width: 32px;\n",
              "    }\n",
              "\n",
              "    .colab-df-convert:hover {\n",
              "      background-color: #E2EBFA;\n",
              "      box-shadow: 0px 1px 2px rgba(60, 64, 67, 0.3), 0px 1px 3px 1px rgba(60, 64, 67, 0.15);\n",
              "      fill: #174EA6;\n",
              "    }\n",
              "\n",
              "    [theme=dark] .colab-df-convert {\n",
              "      background-color: #3B4455;\n",
              "      fill: #D2E3FC;\n",
              "    }\n",
              "\n",
              "    [theme=dark] .colab-df-convert:hover {\n",
              "      background-color: #434B5C;\n",
              "      box-shadow: 0px 1px 3px 1px rgba(0, 0, 0, 0.15);\n",
              "      filter: drop-shadow(0px 1px 2px rgba(0, 0, 0, 0.3));\n",
              "      fill: #FFFFFF;\n",
              "    }\n",
              "  </style>\n",
              "\n",
              "      <script>\n",
              "        const buttonEl =\n",
              "          document.querySelector('#df-13e01c91-b9a8-4fa6-acb4-dd5ae3b13890 button.colab-df-convert');\n",
              "        buttonEl.style.display =\n",
              "          google.colab.kernel.accessAllowed ? 'block' : 'none';\n",
              "\n",
              "        async function convertToInteractive(key) {\n",
              "          const element = document.querySelector('#df-13e01c91-b9a8-4fa6-acb4-dd5ae3b13890');\n",
              "          const dataTable =\n",
              "            await google.colab.kernel.invokeFunction('convertToInteractive',\n",
              "                                                     [key], {});\n",
              "          if (!dataTable) return;\n",
              "\n",
              "          const docLinkHtml = 'Like what you see? Visit the ' +\n",
              "            '<a target=\"_blank\" href=https://colab.research.google.com/notebooks/data_table.ipynb>data table notebook</a>'\n",
              "            + ' to learn more about interactive tables.';\n",
              "          element.innerHTML = '';\n",
              "          dataTable['output_type'] = 'display_data';\n",
              "          await google.colab.output.renderOutput(dataTable, element);\n",
              "          const docLink = document.createElement('div');\n",
              "          docLink.innerHTML = docLinkHtml;\n",
              "          element.appendChild(docLink);\n",
              "        }\n",
              "      </script>\n",
              "    </div>\n",
              "  </div>\n",
              "  "
            ]
          },
          "metadata": {},
          "execution_count": 50
        }
      ]
    },
    {
      "cell_type": "code",
      "source": [
        "#checking the number of unique values in each category\n",
        "for var in categorical_data:\n",
        "  print(var)\n",
        "  print(f\"{attrition_data[var].unique()},No of unique categories:  {attrition_data[var].nunique()} \\n\")\n",
        "\n"
      ],
      "metadata": {
        "colab": {
          "base_uri": "https://localhost:8080/"
        },
        "id": "lIK5Aot4B870",
        "outputId": "355aaf68-d68b-4884-a0b7-7343c44f7cf9"
      },
      "id": "lIK5Aot4B870",
      "execution_count": 22,
      "outputs": [
        {
          "output_type": "stream",
          "name": "stdout",
          "text": [
            "Education\n",
            "[2 1 4 3 5],No of unique categories:  5 \n",
            "\n",
            "EnvironmentSatisfaction\n",
            "[2 3 4 1],No of unique categories:  4 \n",
            "\n",
            "JobInvolvement\n",
            "[3 2 4 1],No of unique categories:  4 \n",
            "\n",
            "JobSatisfaction\n",
            "[4 2 3 1],No of unique categories:  4 \n",
            "\n",
            "PerformanceRating\n",
            "[3 4],No of unique categories:  2 \n",
            "\n",
            "RelationshipSatisfaction\n",
            "[1 4 2 3],No of unique categories:  4 \n",
            "\n",
            "WorkLifeBalance\n",
            "[1 3 2 4],No of unique categories:  4 \n",
            "\n",
            "Attrition\n",
            "['Yes' 'No'],No of unique categories:  2 \n",
            "\n",
            "BusinessTravel\n",
            "['Travel_Rarely' 'Travel_Frequently' 'Non-Travel'],No of unique categories:  3 \n",
            "\n",
            "Department\n",
            "['Sales' 'Research & Development' 'Human Resources'],No of unique categories:  3 \n",
            "\n",
            "EducationField\n",
            "['Life Sciences' 'Other' 'Medical' 'Marketing' 'Technical Degree'\n",
            " 'Human Resources'],No of unique categories:  6 \n",
            "\n",
            "Gender\n",
            "['Female' 'Male'],No of unique categories:  2 \n",
            "\n",
            "JobRole\n",
            "['Sales Executive' 'Research Scientist' 'Laboratory Technician'\n",
            " 'Manufacturing Director' 'Healthcare Representative' 'Manager'\n",
            " 'Sales Representative' 'Research Director' 'Human Resources'],No of unique categories:  9 \n",
            "\n",
            "MaritalStatus\n",
            "['Single' 'Married' 'Divorced'],No of unique categories:  3 \n",
            "\n",
            "Over18\n",
            "['Y'],No of unique categories:  1 \n",
            "\n",
            "OverTime\n",
            "['Yes' 'No'],No of unique categories:  2 \n",
            "\n"
          ]
        }
      ]
    },
    {
      "cell_type": "markdown",
      "source": [
        "The categories of the categorical variables are shown above with the JobRole column having more catergories than the others. The column Over18 has just one category and this is cannot be useful in determinning an employee's attrition since it has uniform "
      ],
      "metadata": {
        "id": "rgyj2hdGD6Yh"
      },
      "id": "rgyj2hdGD6Yh"
    },
    {
      "cell_type": "markdown",
      "source": [
        "Use of a histplot and countplot for plotting the categorical variables against attrition to find if there is any relationship between them."
      ],
      "metadata": {
        "id": "M7ezHGZBw44p"
      },
      "id": "M7ezHGZBw44p"
    },
    {
      "cell_type": "code",
      "source": [
        "plt.figure(figsize=(20,10))\n",
        "\n",
        "sns.histplot(attrition_data, x=\"JobRole\", hue=\"Attrition\")"
      ],
      "metadata": {
        "colab": {
          "base_uri": "https://localhost:8080/",
          "height": 623
        },
        "id": "AkXe1sRhGtWJ",
        "outputId": "fb083452-1f8f-4696-8ba1-4343967f0761"
      },
      "id": "AkXe1sRhGtWJ",
      "execution_count": 65,
      "outputs": [
        {
          "output_type": "execute_result",
          "data": {
            "text/plain": [
              "<matplotlib.axes._subplots.AxesSubplot at 0x7fbf128a9e20>"
            ]
          },
          "metadata": {},
          "execution_count": 65
        },
        {
          "output_type": "display_data",
          "data": {
            "text/plain": [
              "<Figure size 1440x720 with 1 Axes>"
            ],
            "image/png": "[encoded data removed]"
          },
          "metadata": {
            "needs_background": "light"
          }
        }
      ]
    },
    {
      "cell_type": "code",
      "execution_count": 27,
      "id": "b0140c34",
      "metadata": {
        "id": "b0140c34",
        "colab": {
          "base_uri": "https://localhost:8080/",
          "height": 606
        },
        "outputId": "9e5b5b98-38c2-48be-fa87-830c8c167443"
      },
      "outputs": [
        {
          "output_type": "display_data",
          "data": {
            "text/plain": [
              "<Figure size 1080x720 with 6 Axes>"
            ],
            "image/png": "[encoded data removed]"
          },
          "metadata": {
            "needs_background": "light"
          }
        }
      ],
      "source": [
        "plt.figure(figsize=(15,10))\n",
        "\n",
        "plt.subplot(2,3,1)\n",
        "sns.countplot(data=attrition_data,x=\"Education\",hue=\"Attrition\")\n",
        "\n",
        "plt.subplot(2,3,2)\n",
        "sns.countplot(data=attrition_data,x=\"EnvironmentSatisfaction\", hue=\"Attrition\")\n",
        "\n",
        "plt.subplot(2,3,3)\n",
        "sns.countplot(data=attrition_data,x=\"JobInvolvement\", hue=\"Attrition\")\n",
        "\n",
        "plt.subplot(2,3,4)\n",
        "\n",
        "sns.countplot(data=attrition_data,x=\"JobSatisfaction\", hue=\"Attrition\")\n",
        "\n",
        "plt.subplot(2,3,5)\n",
        "\n",
        "sns.countplot(data=attrition_data,x=\"PerformanceRating\", hue=\"Attrition\")\n",
        "\n",
        "plt.subplot(2,3,6)\n",
        "\n",
        "sns.countplot(data=attrition_data,x=\"RelationshipSatisfaction\", hue=\"Attrition\")\n",
        "\n",
        "plt.show()"
      ]
    },
    {
      "cell_type": "code",
      "source": [
        "print(categorical_data)"
      ],
      "metadata": {
        "colab": {
          "base_uri": "https://localhost:8080/"
        },
        "id": "2VZLWIUYoSoM",
        "outputId": "a32e35b1-29ba-48c6-f3a7-83861f0c6877"
      },
      "id": "2VZLWIUYoSoM",
      "execution_count": null,
      "outputs": [
        {
          "output_type": "stream",
          "name": "stdout",
          "text": [
            "['Education', 'EnvironmentSatisfaction', 'JobInvolvement', 'JobSatisfaction', 'PerformanceRating', 'RelationshipSatisfaction', 'WorkLifeBalance', 'Attrition', 'BusinessTravel', 'Department', 'EducationField', 'Gender', 'JobRole', 'MaritalStatus', 'Over18', 'OverTime']\n"
          ]
        }
      ]
    },
    {
      "cell_type": "code",
      "source": [
        "plt.figure(figsize=(25,20))\n",
        "\n",
        "plt.subplot(3,4,1)\n",
        "sns.countplot(data=attrition_data,x=\"WorkLifeBalance\",hue=\"Attrition\")\n",
        "\n",
        "plt.subplot(3,4,2)\n",
        "sns.countplot(data=attrition_data,x=\"BusinessTravel\", hue=\"Attrition\")\n",
        "\n",
        "plt.subplot(3,4,3)\n",
        "sns.countplot(data=attrition_data,x=\"Department\", hue=\"Attrition\")\n",
        "\n",
        "plt.subplot(3,4,4)\n",
        "\n",
        "sns.countplot(data=attrition_data,x=\"JobSatisfaction\", hue=\"Attrition\")\n",
        "\n",
        "\n",
        "plt.subplot(3,4,5)\n",
        "\n",
        "sns.countplot(data=attrition_data,x=\"Gender\", hue=\"Attrition\")\n",
        "\n",
        "\n",
        "plt.subplot(3,4,6)\n",
        "\n",
        "sns.countplot(data=attrition_data,x=\"MaritalStatus\", hue=\"Attrition\")\n",
        "\n",
        "\n",
        "plt.subplot(3,4,7)\n",
        "\n",
        "sns.countplot(data=attrition_data,x=\"OverTime\", hue=\"Attrition\")\n",
        "\n",
        "\n",
        "\n",
        "\n",
        "plt.show()"
      ],
      "metadata": {
        "colab": {
          "base_uri": "https://localhost:8080/",
          "height": 741
        },
        "id": "klPkZu0-AqVG",
        "outputId": "6dc3ffc9-ddd7-4b52-c719-f4f2c28df70f"
      },
      "id": "klPkZu0-AqVG",
      "execution_count": 29,
      "outputs": [
        {
          "output_type": "display_data",
          "data": {
            "text/plain": [
              "<Figure size 1800x1440 with 7 Axes>"
            ],
            "image/png": "[encoded data removed]"
          },
          "metadata": {
            "needs_background": "light"
          }
        }
      ]
    },
    {
      "cell_type": "markdown",
      "source": [
        "The prominent column associated with the Employee Attrition si the Gender . The Gender column shows that there are less females than males invlved in Employee Attrition in the company.\n",
        "\n",
        "# **Answer 1**  \n",
        "\n",
        "Therefore the three major factors behind Employee Attrition in The IBM datset are \n",
        "\n",
        "1 NumCompaniesWorked\n",
        "\n",
        "\n",
        "2 DistanceFromHome\n",
        "\n",
        "3 Gender\n",
        "\n"
      ],
      "metadata": {
        "id": "SD1LyYS-x9Dw"
      },
      "id": "SD1LyYS-x9Dw"
    },
    {
      "cell_type": "markdown",
      "source": [
        "### Q2:What is the relationship between Education and Monthly Income?"
      ],
      "metadata": {
        "id": "b7hYv-WkzmP7"
      },
      "id": "b7hYv-WkzmP7"
    },
    {
      "cell_type": "markdown",
      "source": [
        "The relationship Education(categorical data) and Monthly Income(quantitative) data can be seen with the use of a boxplot"
      ],
      "metadata": {
        "id": "pKegKkX9zx6w"
      },
      "id": "pKegKkX9zx6w"
    },
    {
      "cell_type": "code",
      "source": [
        "sns.boxplot(data=attrition_data, x=\"Education\", y=\"MonthlyIncome\")"
      ],
      "metadata": {
        "id": "GAviIvZwBi85",
        "colab": {
          "base_uri": "https://localhost:8080/",
          "height": 296
        },
        "outputId": "7f1e1b83-035a-42d1-8a7e-bc6e05295e13"
      },
      "id": "GAviIvZwBi85",
      "execution_count": 33,
      "outputs": [
        {
          "output_type": "execute_result",
          "data": {
            "text/plain": [
              "<matplotlib.axes._subplots.AxesSubplot at 0x7fbf2c8efca0>"
            ]
          },
          "metadata": {},
          "execution_count": 33
        },
        {
          "output_type": "display_data",
          "data": {
            "text/plain": [
              "<Figure size 432x288 with 1 Axes>"
            ],
            "image/png": "[encoded data removed]"
          },
          "metadata": {
            "needs_background": "light"
          }
        }
      ]
    },
    {
      "cell_type": "markdown",
      "source": [
        "It can be deduced that the higher the level of Education, the higher the median Monthly Income of an employee. This can be further visualized with a barplot."
      ],
      "metadata": {
        "id": "GZYr4ho_0xCD"
      },
      "id": "GZYr4ho_0xCD"
    },
    {
      "cell_type": "code",
      "source": [
        "sns.barplot(data=attrition_data, x=\"Education\", y=\"MonthlyIncome\")"
      ],
      "metadata": {
        "colab": {
          "base_uri": "https://localhost:8080/",
          "height": 297
        },
        "id": "8g8bYdeA1A_T",
        "outputId": "9a2e70d7-70e8-4d59-9189-b5da3f02560e"
      },
      "id": "8g8bYdeA1A_T",
      "execution_count": 39,
      "outputs": [
        {
          "output_type": "execute_result",
          "data": {
            "text/plain": [
              "<matplotlib.axes._subplots.AxesSubplot at 0x7fbf1bb462b0>"
            ]
          },
          "metadata": {},
          "execution_count": 39
        },
        {
          "output_type": "display_data",
          "data": {
            "text/plain": [
              "<Figure size 432x288 with 1 Axes>"
            ],
            "image/png": "[encoded data removed]"
          },
          "metadata": {
            "needs_background": "light"
          }
        }
      ]
    },
    {
      "cell_type": "markdown",
      "source": [
        "The barplot further shows that there is an increase in the montly Income of an Employee as the level of Education increases. \n",
        "\n",
        "\n",
        "# **ANSWER 2**\n",
        "\n",
        "**The higher the level of Education, the higher the Monthly Income.**\n"
      ],
      "metadata": {
        "id": "Wop_Dq0g16Rg"
      },
      "id": "Wop_Dq0g16Rg"
    },
    {
      "cell_type": "markdown",
      "source": [
        "### Q3: What is the effect of age on attrition?\n",
        "\n",
        "A boxplot can be used for visualizing the relationship between the age and attrition"
      ],
      "metadata": {
        "id": "QR9NMj8H1S8Y"
      },
      "id": "QR9NMj8H1S8Y"
    },
    {
      "cell_type": "code",
      "source": [
        "sns.boxplot(data=attrition_data, x=\"Attrition\", y=\"Age\")"
      ],
      "metadata": {
        "colab": {
          "base_uri": "https://localhost:8080/",
          "height": 296
        },
        "id": "j3bV7NGK0ODK",
        "outputId": "081ab4c3-77c5-4219-984c-7642e8ad09de"
      },
      "id": "j3bV7NGK0ODK",
      "execution_count": 66,
      "outputs": [
        {
          "output_type": "execute_result",
          "data": {
            "text/plain": [
              "<matplotlib.axes._subplots.AxesSubplot at 0x7fbf127d8550>"
            ]
          },
          "metadata": {},
          "execution_count": 66
        },
        {
          "output_type": "display_data",
          "data": {
            "text/plain": [
              "<Figure size 432x288 with 1 Axes>"
            ],
            "image/png": "[encoded data removed]"
          },
          "metadata": {
            "needs_background": "light"
          }
        }
      ]
    },
    {
      "cell_type": "markdown",
      "source": [
        "# **ANSWER 3:** \n",
        "\n",
        "**The above plots indicates that the median age associated with Employee Attrition(YES) is around 32. This implies that the younger an employee is, the higher the probability that the employee will leave IBM**"
      ],
      "metadata": {
        "id": "WlnX-wey29NX"
      },
      "id": "WlnX-wey29NX"
    },
    {
      "cell_type": "markdown",
      "source": [
        "## Q4: Is Income the main factor in employee attrition?"
      ],
      "metadata": {
        "id": "v-CnP6K14DCf"
      },
      "id": "v-CnP6K14DCf"
    },
    {
      "cell_type": "markdown",
      "source": [
        "Plotting the MontlyIncome vs Attrition usiung a barplot and histplot"
      ],
      "metadata": {
        "id": "3YLjpqmj4I_f"
      },
      "id": "3YLjpqmj4I_f"
    },
    {
      "cell_type": "code",
      "source": [
        "plt.figure(figsize=(10,6))\n",
        "\n",
        "plt.subplot(1,2,1)\n",
        "sns.barplot(data=attrition_data, x=\"Attrition\", y=\"MonthlyIncome\")\n",
        "\n",
        "plt.subplot(1,2,2)\n",
        "sns.histplot(data=attrition_data, x=\"MonthlyIncome\", hue=\"Attrition\", bins=30)"
      ],
      "metadata": {
        "colab": {
          "base_uri": "https://localhost:8080/",
          "height": 405
        },
        "id": "Qc4lYTE92omA",
        "outputId": "65b880eb-fa60-4439-c0da-024fd3343ea8"
      },
      "id": "Qc4lYTE92omA",
      "execution_count": 55,
      "outputs": [
        {
          "output_type": "execute_result",
          "data": {
            "text/plain": [
              "<matplotlib.axes._subplots.AxesSubplot at 0x7fbf12c48970>"
            ]
          },
          "metadata": {},
          "execution_count": 55
        },
        {
          "output_type": "display_data",
          "data": {
            "text/plain": [
              "<Figure size 720x432 with 2 Axes>"
            ],
            "image/png": "[encoded data removed]"
          },
          "metadata": {
            "needs_background": "light"
          }
        }
      ]
    },
    {
      "cell_type": "markdown",
      "source": [
        " ANSWER 4:\n",
        " \n",
        " From the above plot, it can be seen that the higher the income, the lesser the chance of Emloyee attrition. This shows that Employee Attriton is associated with the income of an Employee, though there are a few outliers in the data where Empoyees with a high income still quit their job. \n",
        "\n",
        " Income is not the main factor of Employee Attrition\n",
        "\n"
      ],
      "metadata": {
        "id": "unyBjHy156Sd"
      },
      "id": "unyBjHy156Sd"
    },
    {
      "cell_type": "markdown",
      "source": [
        "### Q5: How does work-life balance impact the overall attrition rate?"
      ],
      "metadata": {
        "id": "GBzegb5r61X7"
      },
      "id": "GBzegb5r61X7"
    },
    {
      "cell_type": "markdown",
      "source": [
        "Using countplot to visualize the Count of Attrition( Yes and No) for each category of WorkLifeBalance"
      ],
      "metadata": {
        "id": "y2HMb8SUHX0C"
      },
      "id": "y2HMb8SUHX0C"
    },
    {
      "cell_type": "code",
      "source": [
        "sns.countplot(data=attrition_data, x=\"WorkLifeBalance\", hue=\"Attrition\")"
      ],
      "metadata": {
        "colab": {
          "base_uri": "https://localhost:8080/",
          "height": 299
        },
        "id": "6zYmZaM24cp9",
        "outputId": "79f9b820-91a4-48cb-cdfc-a9d0b140f0c1"
      },
      "id": "6zYmZaM24cp9",
      "execution_count": 60,
      "outputs": [
        {
          "output_type": "execute_result",
          "data": {
            "text/plain": [
              "<matplotlib.axes._subplots.AxesSubplot at 0x7fbf12a422e0>"
            ]
          },
          "metadata": {},
          "execution_count": 60
        },
        {
          "output_type": "display_data",
          "data": {
            "text/plain": [
              "<Figure size 432x288 with 1 Axes>"
            ],
            "image/png": "[encoded data removed]"
          },
          "metadata": {
            "needs_background": "light"
          }
        }
      ]
    },
    {
      "cell_type": "markdown",
      "source": [
        "**# ANSWER 5**\n",
        "\n",
        "**It is seen that Employees that have a bad and best WorkLife balance have a lower attrition rate, while those in between, i.e Good and Better WorkLifeBalance have higher attrition rate.**\n",
        "\n"
      ],
      "metadata": {
        "id": "k7W4Lr0J7gj6"
      },
      "id": "k7W4Lr0J7gj6"
    },
    {
      "cell_type": "code",
      "source": [],
      "metadata": {
        "id": "1MjUcoZd7CNo"
      },
      "id": "1MjUcoZd7CNo",
      "execution_count": null,
      "outputs": []
    }
  ],
  "metadata": {
    "kernelspec": {
      "display_name": "Python 3",
      "language": "python",
      "name": "python3"
    },
    "language_info": {
      "codemirror_mode": {
        "name": "ipython",
        "version": 3
      },
      "file_extension": ".py",
      "mimetype": "text/x-python",
      "name": "python",
      "nbconvert_exporter": "python",
      "pygments_lexer": "ipython3",
      "version": "3.8.8"
    },
    "colab": {
      "provenance": []
    }
  },
  "nbformat": 4,
  "nbformat_minor": 5
}